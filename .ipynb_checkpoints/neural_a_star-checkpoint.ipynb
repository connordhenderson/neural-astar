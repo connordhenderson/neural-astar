{
 "cells": [
  {
   "cell_type": "code",
   "execution_count": 1,
   "id": "92fe6b72",
   "metadata": {},
   "outputs": [
    {
     "name": "stderr",
     "output_type": "stream",
     "text": [
      "C:\\Users\\db2admin\\AppData\\Local\\Programs\\Python\\Python39\\lib\\site-packages\\tqdm\\auto.py:22: TqdmWarning: IProgress not found. Please update jupyter and ipywidgets. See https://ipywidgets.readthedocs.io/en/stable/user_install.html\n",
      "  from .autonotebook import tqdm as notebook_tqdm\n"
     ]
    }
   ],
   "source": [
    "import numpy as np\n",
    "import torch\n",
    "\n",
    "%run maze_generation.ipynb import *"
   ]
  },
  {
   "cell_type": "code",
   "execution_count": 2,
   "id": "07eb2b46",
   "metadata": {},
   "outputs": [
    {
     "data": {
      "text/plain": [
       "(-1, 1, 27, 27)"
      ]
     },
     "execution_count": 2,
     "metadata": {},
     "output_type": "execute_result"
    },
    {
     "data": {
      "image/png": "[encoded data removed]",
      "text/plain": [
       "<Figure size 432x288 with 1 Axes>"
      ]
     },
     "metadata": {
      "needs_background": "light"
     },
     "output_type": "display_data"
    }
   ],
   "source": [
    "np.random.seed(5)\n",
    "maze = generate_wide_maze(7,3)\n",
    "maze2 = generate_wide_maze(7,3)\n",
    "\n",
    "plt.imshow(maze)\n",
    "MAZE_SHAPE = maze.shape\n",
    "\n",
    "def get_maze_shape(maze, n=None, channels=True):\n",
    "    result = []\n",
    "    if n is None:\n",
    "        result.append(-1)\n",
    "    elif n > 0:\n",
    "        result.append(n)\n",
    "    if channels == True:\n",
    "        result.append(1)\n",
    "    result.append(maze.shape[0])\n",
    "    result.append(maze.shape[0])\n",
    "    return tuple(result)\n",
    "get_maze_shape(maze)"
   ]
  },
  {
   "cell_type": "code",
   "execution_count": 3,
   "id": "6c215e89",
   "metadata": {},
   "outputs": [
    {
     "data": {
      "text/plain": [
       "<matplotlib.image.AxesImage at 0x1be15613070>"
      ]
     },
     "execution_count": 3,
     "metadata": {},
     "output_type": "execute_result"
    },
    {
     "data": {
      "image/png": "[encoded data removed]",
      "text/plain": [
       "<Figure size 432x288 with 1 Axes>"
      ]
     },
     "metadata": {
      "needs_background": "light"
     },
     "output_type": "display_data"
    }
   ],
   "source": [
    "plt.imshow(maze2)"
   ]
  },
  {
   "cell_type": "code",
   "execution_count": 4,
   "id": "84bca768",
   "metadata": {},
   "outputs": [
    {
     "data": {
      "image/png": "[encoded data removed]",
      "text/plain": [
       "<Figure size 432x288 with 1 Axes>"
      ]
     },
     "metadata": {
      "needs_background": "light"
     },
     "output_type": "display_data"
    }
   ],
   "source": [
    "# We have a static start and end goal, so our H map will always look as follows:\n",
    "def get_h_map(maze):\n",
    "    h = torch.zeros(maze.shape)\n",
    "    for i in range(len(h)):\n",
    "        for j in range(len(h)):\n",
    "            h[i][j] = np.linalg.norm(np.asarray([i,j]) - np.asarray([len(maze) - 2, len(maze) - 2]))\n",
    "    return h / torch.max(h)\n",
    "\n",
    "h = get_h_map(maze)\n",
    "plt.imshow(h)\n",
    "h = h.reshape(-1,1,maze.shape[0], maze.shape[0])"
   ]
  },
  {
   "cell_type": "markdown",
   "id": "836a04a8",
   "metadata": {},
   "source": [
    "# Node Selection\n",
    "\n",
    "### A differentiable operation designed to select the lowest cost node.\n",
    "$V^* = I_{max}\n",
    "(\\frac{exp(-(G+H)/\\tau) \\odot O}{\\langle exp(-G+H)/\\tau),O\\rangle}) $\n",
    "\n",
    "    input:\n",
    "        o (1d Tensor): 1d Tensor indicating status of node within the openset\n",
    "        g (1d Tensor): 1d Tensor indicating the g-score associated to a node\n",
    "        h (1d Tensor): 1d Tensor indicating heuristic cost of reaching the end node from each point\n",
    "        \n",
    "    output:\n",
    "        (int): index of the lowest cost node in the flattened tensor"
   ]
  },
  {
   "cell_type": "code",
   "execution_count": 5,
   "id": "edf1890a",
   "metadata": {},
   "outputs": [
    {
     "data": {
      "text/plain": [
       "(tensor(27), torch.float32)"
      ]
     },
     "execution_count": 5,
     "metadata": {},
     "output_type": "execute_result"
    }
   ],
   "source": [
    "\"\"\"\n",
    "NODE SELECTION: Single maps\n",
    "\"\"\"\n",
    "def node_selection(o,g,h):\n",
    "    tau = np.sqrt(len(o))\n",
    "    numerator = (torch.exp(-(g.flatten() + h.flatten())/tau) * o.float().flatten())\n",
    "    denomenator = (torch.exp(-(g.flatten() + h.flatten())/tau) @ o.float().T.flatten())\n",
    "    v_star = numerator/denomenator\n",
    "    return v_star.flatten().argmax()\n",
    "\n",
    "# Select the lowest g/h score node to \n",
    "np.random.seed(1)\n",
    "o = torch.Tensor(np.random.randint(0,2,len(maze)**2).reshape((len(maze),len(maze)))).float()\n",
    "g = torch.Tensor(np.random.rand(len(maze)**2).reshape((len(maze),len(maze))))\n",
    "h_ = torch.Tensor(np.random.rand(len(maze)**2).reshape((len(maze),len(maze))))\n",
    "o.flatten()[27] = 1\n",
    "g.flatten()[27] = 0\n",
    "h_.flatten()[27] = 0\n",
    "v_star = node_selection(o,g,h_)\n",
    "v_star, g.dtype"
   ]
  },
  {
   "cell_type": "markdown",
   "id": "b9ad050f",
   "metadata": {},
   "source": [
    "# Node Expansion\n",
    "### Expand the search to include the nodes that neighbour the selected node"
   ]
  },
  {
   "cell_type": "code",
   "execution_count": 6,
   "id": "77788cba",
   "metadata": {},
   "outputs": [],
   "source": [
    "def node_expansion(v_star, cells, o, c):\n",
    "    # Create the kernel\n",
    "    K = torch.Tensor([[[[1,1,1],[1,0,1],[1,1,1]]]])\n",
    "    \n",
    "    # Get the indicator vector from the \n",
    "    v_star_I = torch.zeros(cells.shape, dtype=torch.float32)\n",
    "    v_star_I.flatten()[v_star] = 1\n",
    "\n",
    "    # Perform the convolution\n",
    "    v_nbr = torch.nn.functional.conv2d(v_star_I.reshape((1,1,len(maze),len(maze))), K, padding=1)\n",
    "    \n",
    "    # Exclude walls, and elements in the closed set:\n",
    "    v_nbr = v_nbr * (1 - cells) * (1 - o.detach()) * (1 - c)\n",
    "    v_bar_nbr = v_nbr * (1 - cells) * (o.detach()) * (1 - c)\n",
    "    return v_nbr, v_bar_nbr\n",
    "\n",
    "v_star_I = torch.zeros(maze.shape, dtype=torch.float32)\n",
    "v_star_I.flatten()[v_star] = 1\n",
    "    \n",
    "o = torch.zeros(maze.shape, dtype=torch.float32)    \n",
    "c = torch.zeros(maze.shape, dtype=torch.float32)\n",
    "    \n",
    "v_nbr, v_bar_nbr = node_expansion(v_star, maze, o, c)\n"
   ]
  },
  {
   "cell_type": "code",
   "execution_count": null,
   "id": "b5924c3d",
   "metadata": {},
   "outputs": [],
   "source": []
  },
  {
   "cell_type": "code",
   "execution_count": 7,
   "id": "670ff443",
   "metadata": {},
   "outputs": [],
   "source": [
    "def get_v_star_I(v_star, square=False, channels=False):\n",
    "    if v_star.size() == torch.Size([]):\n",
    "        vi = torch.zeros(maze.size)\n",
    "        vi.flatten()[v_star] = 1\n",
    "        return vi\n",
    "        \n",
    "    vi = torch.stack([torch.zeros(maze.size) for m in v_star])\n",
    "    for vs in enumerate(v_star):\n",
    "        vi[vs[0], vs[1]] = 1\n",
    "    if square==True:\n",
    "        vi = vi.reshape(get_maze_shape(maze,channels=channels))\n",
    "    return vi"
   ]
  },
  {
   "cell_type": "code",
   "execution_count": 8,
   "id": "76dd82c9",
   "metadata": {},
   "outputs": [
    {
     "name": "stdout",
     "output_type": "stream",
     "text": [
      "v_star_I\n"
     ]
    },
    {
     "data": {
      "text/plain": [
       "<matplotlib.image.AxesImage at 0x1be156ee7c0>"
      ]
     },
     "execution_count": 8,
     "metadata": {},
     "output_type": "execute_result"
    },
    {
     "data": {
      "image/png": "[encoded data removed]",
      "text/plain": [
       "<Figure size 432x288 with 1 Axes>"
      ]
     },
     "metadata": {
      "needs_background": "light"
     },
     "output_type": "display_data"
    }
   ],
   "source": [
    "print(\"v_star_I\")\n",
    "plt.imshow(maze + v_star_I.numpy()*2)"
   ]
  },
  {
   "cell_type": "code",
   "execution_count": 9,
   "id": "ca598894",
   "metadata": {},
   "outputs": [
    {
     "name": "stdout",
     "output_type": "stream",
     "text": [
      "node expansion\n"
     ]
    },
    {
     "data": {
      "text/plain": [
       "<matplotlib.image.AxesImage at 0x1be1574d0d0>"
      ]
     },
     "execution_count": 9,
     "metadata": {},
     "output_type": "execute_result"
    },
    {
     "data": {
      "image/png": "[encoded data removed]",
      "text/plain": [
       "<Figure size 432x288 with 1 Axes>"
      ]
     },
     "metadata": {
      "needs_background": "light"
     },
     "output_type": "display_data"
    }
   ],
   "source": [
    "print(\"node expansion\")\n",
    "plt.imshow(maze + v_nbr[0].numpy().reshape((maze.shape[0],maze.shape[0]))*2)"
   ]
  },
  {
   "cell_type": "markdown",
   "id": "0eaeaef6",
   "metadata": {},
   "source": [
    "# Updating Guidance Costs"
   ]
  },
  {
   "cell_type": "code",
   "execution_count": 10,
   "id": "7f6f156c",
   "metadata": {},
   "outputs": [
    {
     "name": "stdout",
     "output_type": "stream",
     "text": [
      "Updated guidance costs\n"
     ]
    },
    {
     "data": {
      "text/plain": [
       "<matplotlib.image.AxesImage at 0x1be157f2130>"
      ]
     },
     "execution_count": 10,
     "metadata": {},
     "output_type": "execute_result"
    },
    {
     "data": {
      "image/png": "[encoded data removed]",
      "text/plain": [
       "<Figure size 432x288 with 1 Axes>"
      ]
     },
     "metadata": {
      "needs_background": "light"
     },
     "output_type": "display_data"
    }
   ],
   "source": [
    "def update_guidance_costs(v_star, \n",
    "                          v_nbr, \n",
    "                          v_bar_nbr, \n",
    "                          phi, \n",
    "                          g):\n",
    "    v_star_I = torch.zeros(g.shape, dtype=torch.float32)\n",
    "    v_star_I.flatten()[v_star] = 1\n",
    "    \n",
    "    # Temporary; needs to be in x,x,r,c for batching\n",
    "    v_nbr = v_nbr.reshape(g.shape)\n",
    "    v_bar_nbr = v_bar_nbr.reshape(g.shape)\n",
    "    try:\n",
    "        gp = g @ v_star_I + phi\n",
    "    except:\n",
    "        print(g.shape, v_star_I.T.shape, phi.shape)\n",
    "        raise Exception()\n",
    "        \n",
    "    g = gp * v_nbr.detach() + torch.minimum(g, gp) * v_bar_nbr.detach()\n",
    "    g = g + g * (torch.ones(g.shape) - v_nbr.detach() - v_bar_nbr.detach())\n",
    "    return g.float()\n",
    "\n",
    "print(\"Updated guidance costs\")\n",
    "phi = np.random.rand(len(g.flatten())).reshape(g.shape)\n",
    "phi = torch.Tensor(phi)\n",
    "new_g = update_guidance_costs(v_star, v_nbr, v_bar_nbr, phi, g)\n",
    "plt.imshow(new_g.detach().squeeze())\n"
   ]
  },
  {
   "cell_type": "markdown",
   "id": "d944561f",
   "metadata": {},
   "source": [
    "# Minibatch Training"
   ]
  },
  {
   "cell_type": "code",
   "execution_count": 11,
   "id": "453e7ee3",
   "metadata": {},
   "outputs": [],
   "source": [
    "def get_verification_flag(v_star, maze):\n",
    "    goal_index = len(maze) ** 2 - len(maze) - 1\n",
    "    if v_star.item() == goal_index:\n",
    "        return 1\n",
    "    else:\n",
    "        return 0\n",
    "\n",
    "def vector_to_I(v, maze):\n",
    "    v_I = torch.zeros(maze.shape)\n",
    "    v_I.flatten()[v] = 1\n",
    "    return v_I"
   ]
  },
  {
   "cell_type": "code",
   "execution_count": 12,
   "id": "2fbb47f0",
   "metadata": {},
   "outputs": [
    {
     "data": {
      "text/plain": [
       "tensor([[0., 0., 0., 0., 0., 0., 0., 0., 0., 0., 0., 0., 0., 0., 0., 0., 0., 0., 0., 0., 0., 0., 0., 0.,\n",
       "         0., 0., 0.],\n",
       "        [0., 0., 0., 0., 0., 0., 0., 0., 0., 0., 0., 0., 0., 0., 0., 0., 0., 0., 0., 0., 0., 0., 0., 0.,\n",
       "         0., 0., 0.],\n",
       "        [0., 0., 0., 0., 0., 0., 0., 0., 0., 0., 0., 0., 0., 0., 0., 0., 0., 0., 0., 0., 0., 0., 0., 0.,\n",
       "         0., 0., 0.],\n",
       "        [0., 0., 0., 0., 0., 0., 0., 0., 0., 0., 0., 0., 0., 0., 0., 0., 0., 0., 0., 0., 0., 0., 0., 0.,\n",
       "         0., 0., 0.],\n",
       "        [0., 0., 0., 0., 0., 0., 0., 0., 0., 0., 0., 0., 0., 0., 0., 0., 0., 0., 0., 0., 0., 0., 0., 0.,\n",
       "         0., 0., 0.],\n",
       "        [0., 0., 0., 0., 0., 0., 0., 0., 0., 0., 0., 0., 0., 0., 0., 0., 0., 0., 0., 0., 0., 0., 0., 0.,\n",
       "         0., 0., 0.],\n",
       "        [0., 0., 0., 0., 0., 0., 0., 0., 0., 0., 0., 0., 0., 0., 0., 0., 0., 0., 0., 0., 0., 0., 0., 0.,\n",
       "         0., 0., 0.],\n",
       "        [0., 0., 0., 0., 0., 0., 0., 0., 0., 0., 0., 0., 0., 0., 0., 0., 0., 0., 0., 0., 0., 0., 0., 0.,\n",
       "         0., 0., 0.],\n",
       "        [0., 0., 0., 0., 0., 0., 0., 0., 0., 0., 0., 0., 0., 0., 0., 0., 0., 0., 0., 0., 0., 0., 0., 0.,\n",
       "         0., 0., 0.],\n",
       "        [0., 0., 0., 0., 0., 0., 0., 0., 0., 0., 0., 0., 0., 0., 0., 0., 0., 0., 0., 0., 0., 0., 0., 0.,\n",
       "         0., 0., 0.],\n",
       "        [0., 0., 0., 0., 0., 0., 0., 0., 0., 0., 0., 0., 0., 0., 0., 0., 0., 0., 0., 0., 0., 0., 0., 0.,\n",
       "         0., 0., 0.],\n",
       "        [0., 0., 0., 0., 0., 0., 0., 0., 0., 0., 0., 0., 0., 0., 0., 0., 0., 0., 0., 0., 0., 0., 0., 0.,\n",
       "         0., 0., 0.],\n",
       "        [0., 0., 0., 0., 0., 0., 0., 0., 0., 0., 0., 0., 0., 0., 0., 0., 0., 0., 0., 0., 0., 0., 0., 0.,\n",
       "         0., 0., 0.],\n",
       "        [0., 0., 0., 0., 0., 0., 0., 0., 0., 0., 0., 0., 0., 0., 0., 0., 0., 0., 0., 0., 0., 0., 0., 0.,\n",
       "         0., 0., 0.],\n",
       "        [0., 0., 0., 0., 0., 0., 0., 0., 0., 0., 0., 0., 0., 0., 0., 0., 0., 0., 0., 0., 0., 0., 0., 0.,\n",
       "         0., 0., 0.],\n",
       "        [0., 0., 0., 0., 0., 0., 0., 0., 0., 0., 0., 0., 0., 0., 0., 0., 0., 0., 0., 0., 0., 0., 0., 0.,\n",
       "         0., 0., 0.],\n",
       "        [0., 0., 0., 0., 0., 0., 0., 0., 0., 0., 0., 0., 0., 0., 0., 0., 0., 0., 0., 0., 0., 0., 0., 0.,\n",
       "         0., 0., 0.],\n",
       "        [0., 0., 0., 0., 0., 0., 0., 0., 0., 0., 0., 0., 0., 0., 0., 0., 0., 0., 0., 0., 0., 0., 0., 0.,\n",
       "         0., 0., 0.],\n",
       "        [0., 0., 0., 0., 0., 0., 0., 0., 0., 0., 0., 0., 0., 0., 0., 0., 0., 0., 0., 0., 0., 0., 0., 0.,\n",
       "         0., 0., 0.],\n",
       "        [0., 0., 0., 0., 0., 0., 0., 0., 0., 0., 0., 0., 0., 0., 0., 0., 0., 0., 0., 0., 0., 0., 0., 0.,\n",
       "         0., 0., 0.],\n",
       "        [0., 0., 0., 0., 0., 0., 0., 0., 0., 0., 0., 0., 0., 0., 0., 0., 0., 0., 0., 0., 0., 0., 0., 0.,\n",
       "         0., 0., 0.],\n",
       "        [0., 0., 0., 0., 0., 0., 0., 0., 0., 0., 0., 0., 0., 0., 0., 0., 0., 0., 0., 0., 0., 0., 0., 0.,\n",
       "         0., 0., 0.],\n",
       "        [0., 0., 0., 0., 0., 0., 0., 0., 0., 0., 0., 0., 0., 0., 0., 0., 0., 0., 0., 0., 0., 0., 0., 0.,\n",
       "         0., 0., 0.],\n",
       "        [0., 0., 0., 0., 0., 0., 0., 0., 0., 0., 0., 0., 0., 0., 0., 0., 0., 0., 0., 0., 0., 0., 0., 0.,\n",
       "         0., 0., 0.],\n",
       "        [0., 0., 0., 0., 0., 0., 0., 0., 0., 0., 0., 0., 0., 0., 0., 0., 0., 0., 0., 0., 0., 0., 0., 0.,\n",
       "         0., 0., 0.],\n",
       "        [0., 0., 0., 0., 0., 0., 0., 0., 0., 0., 0., 0., 0., 0., 0., 0., 0., 0., 0., 0., 0., 0., 0., 0.,\n",
       "         0., 0., 0.],\n",
       "        [0., 0., 0., 0., 0., 0., 0., 0., 0., 0., 0., 0., 0., 0., 0., 0., 0., 0., 0., 0., 0., 0., 0., 0.,\n",
       "         0., 0., 0.]])"
      ]
     },
     "execution_count": 12,
     "metadata": {},
     "output_type": "execute_result"
    }
   ],
   "source": [
    "vg = torch.zeros(maze.shape)\n",
    "vg[-2,-2] = 1\n",
    "vg @ v_star_I.reshape(maze.shape).T"
   ]
  },
  {
   "cell_type": "markdown",
   "id": "bcfffd7e",
   "metadata": {},
   "source": [
    "# Backtracking"
   ]
  },
  {
   "cell_type": "code",
   "execution_count": 13,
   "id": "239260d7",
   "metadata": {},
   "outputs": [],
   "source": [
    "def backtrack(parents):\n",
    "    path = torch.zeros(maze.shape)\n",
    "    parent = parents[-2,-2]\n",
    "    while parent != 0:\n",
    "        parent = parent.int().item()\n",
    "        path.flatten()[parent] = 1\n",
    "        parent = parents.flatten()[parent]\n",
    "    return path"
   ]
  },
  {
   "cell_type": "markdown",
   "id": "2d4112a5",
   "metadata": {},
   "source": [
    "# Network"
   ]
  },
  {
   "cell_type": "code",
   "execution_count": 14,
   "id": "aa646c03",
   "metadata": {},
   "outputs": [],
   "source": [
    "class Network(torch.nn.Module):\n",
    "    def __init__(self):\n",
    "        super().__init__()\n",
    "        \n",
    "        self.encoder = torch.nn.Sequential(\n",
    "                torch.nn.Conv2d(1, 8, 3, stride=2, padding=1),\n",
    "                torch.nn.ReLU(True),\n",
    "                torch.nn.Conv2d(8, 16, 3, stride=2, padding=1),\n",
    "                torch.nn.ReLU(True),\n",
    "                torch.nn.Conv2d(16, 32, 3, stride=2, padding=0),\n",
    "                torch.nn.ReLU(True)\n",
    "            )\n",
    "        self.decoder = torch.nn.Sequential(\n",
    "                torch.nn.ConvTranspose2d(32, 16, 3, stride=2, output_padding=0),\n",
    "                torch.nn.ReLU(True),\n",
    "                torch.nn.ConvTranspose2d(16, 8, 3, stride=2, padding=1, output_padding=1),\n",
    "                torch.nn.ReLU(True),\n",
    "                torch.nn.ConvTranspose2d(8, 1, 3, stride=2, padding=1, output_padding=0)\n",
    "    )\n",
    "    \n",
    "    def forward(self, x):\n",
    "        x = x.reshape((-1,1,MAZE_SHAPE[0], MAZE_SHAPE[0]))\n",
    "        x = self.encoder(x)\n",
    "        x = self.decoder(x)\n",
    "        return x\n",
    "    \n",
    "net = Network()"
   ]
  },
  {
   "cell_type": "markdown",
   "id": "b6479f12",
   "metadata": {},
   "source": [
    "# Putting it together"
   ]
  },
  {
   "cell_type": "code",
   "execution_count": 15,
   "id": "8265ae51",
   "metadata": {},
   "outputs": [],
   "source": [
    "seed = 7"
   ]
  },
  {
   "cell_type": "code",
   "execution_count": 17,
   "id": "fe3ce186",
   "metadata": {},
   "outputs": [
    {
     "name": "stdout",
     "output_type": "stream",
     "text": [
      "177\n"
     ]
    },
    {
     "data": {
      "image/png": "[encoded data removed]",
      "text/plain": [
       "<Figure size 432x288 with 1 Axes>"
      ]
     },
     "metadata": {
      "needs_background": "light"
     },
     "output_type": "display_data"
    }
   ],
   "source": [
    "# compute phi from the encoder\n",
    "np.random.seed(seed)\n",
    "maze = generate_wide_maze(7,3)\n",
    "phi = net(torch.Tensor(maze))\n",
    "\n",
    "# initialize the openset, closed set, guidance map, parents\n",
    "o = torch.zeros(maze.shape, dtype=torch.float32)\n",
    "c = torch.zeros(maze.shape, dtype=torch.float32)\n",
    "g = torch.zeros(maze.shape, dtype=torch.float32)\n",
    "parents = torch.zeros(maze.shape)\n",
    "\n",
    "o[1,1] = 1\n",
    "\n",
    "for i in range(2000):\n",
    "    # Perform node selection\n",
    "    v_star = node_selection(o,g,h)\n",
    "\n",
    "    # Get verification flags (computing n)\n",
    "    n = get_verification_flag(v_star, maze)\n",
    "\n",
    "    # Update open-set / closed-set\n",
    "    v_star_I = get_v_star_I(v_star, square=True, channels=True)\n",
    "    o = o - (1-n)*v_star_I.reshape(maze.shape).float()\n",
    "    c = c + (1-n)*v_star_I.reshape(maze.shape).float()\n",
    "\n",
    "    # Expand the node neighbourhood, update open-set\n",
    "    v_nbr, v_bar_nbr = node_expansion(v_star, maze, o, c)\n",
    "    o = o + v_nbr\n",
    "\n",
    "    # Update g\n",
    "    g = update_guidance_costs(v_star, v_nbr, v_bar_nbr, phi, g)\n",
    "\n",
    "    # Update parents\n",
    "    for ix in np.nonzero(v_nbr.reshape(maze.shape)):\n",
    "        parents[ix[0]][ix[1]] = v_star\n",
    "    \n",
    "    if n == True:\n",
    "        break\n",
    "print(i)\n",
    "plt.imshow(c.squeeze().numpy()*3 + maze*2 + phi.squeeze().detach().numpy()*2)\n",
    "seed += 1"
   ]
  },
  {
   "cell_type": "code",
   "execution_count": null,
   "id": "6be11b1e",
   "metadata": {},
   "outputs": [],
   "source": [
    "plt.imshow(backtrack(parents).detach().numpy()*2 + maze)"
   ]
  },
  {
   "cell_type": "code",
   "execution_count": null,
   "id": "fdbb3d1b",
   "metadata": {},
   "outputs": [],
   "source": [
    "# Examining the closed sets\n",
    "i = 0\n",
    "plt.imshow(c.squeeze().numpy()[i]*2 + maze[i].squeeze().numpy())"
   ]
  },
  {
   "cell_type": "code",
   "execution_count": null,
   "id": "ff7fdd86",
   "metadata": {},
   "outputs": [],
   "source": []
  }
 ],
 "metadata": {
  "kernelspec": {
   "display_name": "Python 3 (ipykernel)",
   "language": "python",
   "name": "python3"
  },
  "language_info": {
   "codemirror_mode": {
    "name": "ipython",
    "version": 3
   },
   "file_extension": ".py",
   "mimetype": "text/x-python",
   "name": "python",
   "nbconvert_exporter": "python",
   "pygments_lexer": "ipython3",
   "version": "3.9.10"
  }
 },
 "nbformat": 4,
 "nbformat_minor": 5
}
