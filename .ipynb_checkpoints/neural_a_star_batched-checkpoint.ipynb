{
 "cells": [
  {
   "cell_type": "code",
   "execution_count": 1,
   "id": "92fe6b72",
   "metadata": {},
   "outputs": [
    {
     "name": "stderr",
     "output_type": "stream",
     "text": [
      "C:\\Users\\db2admin\\AppData\\Local\\Programs\\Python\\Python39\\lib\\site-packages\\tqdm\\auto.py:22: TqdmWarning: IProgress not found. Please update jupyter and ipywidgets. See https://ipywidgets.readthedocs.io/en/stable/user_install.html\n",
      "  from .autonotebook import tqdm as notebook_tqdm\n"
     ]
    }
   ],
   "source": [
    "import numpy as np\n",
    "import os, sys\n",
    "import torch\n",
    "import torchviz\n",
    "from torch.utils.tensorboard import SummaryWriter\n",
    "import segmentation_models_pytorch as smp\n",
    "\n",
    "from time import time\n",
    "%run maze_generation.ipynb import *\n"
   ]
  },
  {
   "cell_type": "code",
   "execution_count": 2,
   "id": "9ec99202",
   "metadata": {},
   "outputs": [],
   "source": [
    "maze_data = np.load(\"./data/mazes.npy\", allow_pickle=True)[()]\n",
    "solution_data = np.load(\"./data/solutions.npy\", allow_pickle=True)[()]\n",
    "batch_i = 0\n",
    "\n",
    "def load_batch(n):\n",
    "    global batch_i\n",
    "    mz = torch.Tensor(maze_data[batch_i:batch_i+n]).unsqueeze(1)\n",
    "    soln = torch.Tensor(solution_data[batch_i:batch_i+n]).unsqueeze(1)   \n",
    "    batch_i += n\n",
    "    return mz, soln"
   ]
  },
  {
   "cell_type": "code",
   "execution_count": 3,
   "id": "07eb2b46",
   "metadata": {},
   "outputs": [
    {
     "data": {
      "text/plain": [
       "((-1, 1, 32, 32), (-1, 1, 32, 32))"
      ]
     },
     "execution_count": 3,
     "metadata": {},
     "output_type": "execute_result"
    },
    {
     "data": {
      "image/png": "[encoded data removed]",
      "text/plain": [
       "<Figure size 432x288 with 1 Axes>"
      ]
     },
     "metadata": {
      "needs_background": "light"
     },
     "output_type": "display_data"
    }
   ],
   "source": [
    "mazes, solutions = load_batch(2)\n",
    "maze = mazes[0].squeeze()\n",
    "maze2 = mazes[1].squeeze()\n",
    "\n",
    "plt.imshow(maze)\n",
    "MAZE_SHAPE = maze.shape\n",
    "BATCH_SIZE = 2\n",
    "\n",
    "def get_maze_shape(maze, n=None, channels=True):\n",
    "    result = []\n",
    "    if n is None:\n",
    "        result.append(-1)\n",
    "    elif n > 0:\n",
    "        result.append(n)\n",
    "    if channels == True:\n",
    "        result.append(1)\n",
    "    result.append(maze.shape[0])\n",
    "    result.append(maze.shape[0])\n",
    "    return tuple(result)\n",
    "get_maze_shape(maze), get_maze_shape(maze2), "
   ]
  },
  {
   "cell_type": "code",
   "execution_count": 4,
   "id": "e75b9727",
   "metadata": {},
   "outputs": [
    {
     "data": {
      "text/plain": [
       "torch.Size([1, 1, 32, 32])"
      ]
     },
     "execution_count": 4,
     "metadata": {},
     "output_type": "execute_result"
    },
    {
     "data": {
      "image/png": "[encoded data removed]",
      "text/plain": [
       "<Figure size 432x288 with 1 Axes>"
      ]
     },
     "metadata": {
      "needs_background": "light"
     },
     "output_type": "display_data"
    }
   ],
   "source": [
    "# We have a static start and end goal, so our H map will always look as follows:\n",
    "def get_h_map(maze):\n",
    "    h = torch.zeros(maze.shape)\n",
    "    for i in range(len(h)):\n",
    "        for j in range(len(h)):\n",
    "            h[i][j] = np.linalg.norm(np.asarray([i,j]) - np.asarray([len(maze) - 2, len(maze) - 2]))\n",
    "    return h / torch.max(h)\n",
    "\n",
    "h = get_h_map(maze)\n",
    "plt.imshow(h)\n",
    "h = h.reshape(-1,1,maze.shape[0], maze.shape[0])\n",
    "h.shape"
   ]
  },
  {
   "cell_type": "markdown",
   "id": "836a04a8",
   "metadata": {},
   "source": [
    "# Node Selection\n",
    "\n",
    "### A differentiable operation designed to select the lowest cost node.\n",
    "$V^* = I_{max}\n",
    "(\\frac{exp(-(G+H)/\\tau) \\odot O}{\\langle exp(-G+H)/\\tau),O\\rangle}) $\n",
    "\n",
    "    input:\n",
    "        o (1d Tensor): 1d Tensor indicating status of node within the openset\n",
    "        g (1d Tensor): 1d Tensor indicating the g-score associated to a node\n",
    "        h (1d Tensor): 1d Tensor indicating heuristic cost of reaching the end node from each point\n",
    "        \n",
    "    output:\n",
    "        (int): index of the lowest cost node in the flattened tensor"
   ]
  },
  {
   "cell_type": "code",
   "execution_count": 5,
   "id": "a1a009cc",
   "metadata": {},
   "outputs": [
    {
     "name": "stdout",
     "output_type": "stream",
     "text": [
      "[tensor(133), tensor(418)] torch.float32\n"
     ]
    },
    {
     "name": "stderr",
     "output_type": "stream",
     "text": [
      "C:\\Users\\db2admin\\AppData\\Local\\Temp\\ipykernel_3612\\1904459708.py:16: UserWarning: The use of `x.T` on tensors of dimension other than 2 to reverse their shape is deprecated and it will throw an error in a future release. Consider `x.mT` to transpose batches of matrices or `x.permute(*torch.arange(x.ndim - 1, -1, -1))` to reverse the dimensions of a tensor. (Triggered internally at C:\\actions-runner\\_work\\pytorch\\pytorch\\builder\\windows\\pytorch\\aten\\src\\ATen\\native\\TensorShape.cpp:3575.)\n",
      "  denomenator = (torch.exp(-(g_.flatten() + h_.flatten())/tau) @ o_.float().T.flatten())\n"
     ]
    },
    {
     "data": {
      "text/plain": [
       "(torch.Size([2, 1, 32, 32]),\n",
       " torch.Size([2, 1, 32, 32]),\n",
       " torch.Size([2, 1, 32, 32]))"
      ]
     },
     "execution_count": 5,
     "metadata": {},
     "output_type": "execute_result"
    }
   ],
   "source": [
    "\"\"\"\n",
    "NODE SELECTION: Matrix of maps\n",
    "-Not done very effectively; very hacked together (w.r.t. for loop instead of matmul)\n",
    "-Should be done with .flatten(start_dim=2) and performed in parallel\n",
    "\"\"\"\n",
    "def node_selection(o,g,h):\n",
    "    results = []\n",
    "    for i in range(len(o)):\n",
    "        o_ = o[i]\n",
    "        g_ = g[i]\n",
    "        h_ = h[i]\n",
    "        \n",
    "        tau = np.sqrt(len(o_))\n",
    "        try:\n",
    "            numerator = (torch.exp(-(g_.flatten() + h_.flatten())/tau) * o_.float().flatten())\n",
    "            denomenator = (torch.exp(-(g_.flatten() + h_.flatten())/tau) @ o_.float().T.flatten())\n",
    "        except:\n",
    "            print(g_.shape, h_.shape)\n",
    "            raise Exception()\n",
    "            \n",
    "        v_star = numerator/denomenator\n",
    "        results.append(v_star.flatten().argmax())\n",
    "    return results\n",
    "\n",
    "# Select the lowest g/h score node for two mazes\n",
    "np.random.seed(1)\n",
    "o = torch.Tensor(np.random.randint(0,2,2*len(maze)**2).reshape((2,1,len(maze),len(maze)))).float()\n",
    "g = torch.Tensor(np.random.rand(2*len(maze)**2).reshape((2,1,len(maze),len(maze))))\n",
    "hi = torch.Tensor(np.random.rand(2*len(maze)**2).reshape((2,1,len(maze),len(maze))))\n",
    "o.flatten(start_dim=2)[0,0,133] = 1\n",
    "o.flatten(start_dim=2)[1,0,418] = 1\n",
    "g.flatten(start_dim=2)[0,0,133] = 0\n",
    "g.flatten(start_dim=2)[1,0,418] = 0\n",
    "hi.flatten(start_dim=2)[0,0,133] = 0\n",
    "hi.flatten(start_dim=2)[1,0,418] = 0\n",
    "v_star = node_selection(o,g,hi)\n",
    "print(v_star, g.dtype)\n",
    "o.shape, g.shape, hi.shape"
   ]
  },
  {
   "cell_type": "markdown",
   "id": "b9ad050f",
   "metadata": {},
   "source": [
    "# Node Expansion\n",
    "### Expand the search to include the nodes that neighbour the selected node"
   ]
  },
  {
   "cell_type": "code",
   "execution_count": 6,
   "id": "55ba3a2d",
   "metadata": {},
   "outputs": [
    {
     "data": {
      "text/plain": [
       "(torch.Size([2, 1, 32, 32]),\n",
       " torch.Size([2, 1, 32, 32]),\n",
       " [tensor(133), tensor(418)],\n",
       " torch.Size([2, 1, 32, 32]),\n",
       " torch.Size([2, 1, 32, 32]),\n",
       " torch.Size([2, 1, 32, 32]))"
      ]
     },
     "execution_count": 6,
     "metadata": {},
     "output_type": "execute_result"
    }
   ],
   "source": [
    "def get_v_star_I(v_star, square=False, channels=False):\n",
    "    vi = torch.stack([torch.zeros(maze.shape).flatten() for m in v_star])\n",
    "    for vs in enumerate(v_star):\n",
    "        vi[vs[0], vs[1]] = 1\n",
    "    if square==True:\n",
    "        vi = vi.reshape(get_maze_shape(maze,channels=channels))\n",
    "    return vi\n",
    "\n",
    "def node_expansion(v_star, cells, o, c):\n",
    "    # Create the kernel\n",
    "    K = torch.Tensor([[[[1,1,1],[1,0,1],[1,1,1]]]])\n",
    "    \n",
    "    # Get the indicator vector from the \n",
    "    v_star_I = get_v_star_I(v_star).reshape((-1,1,len(maze),len(maze)))\n",
    "\n",
    "    # Perform the convolution\n",
    "    v_nbr = torch.nn.functional.conv2d(v_star_I.reshape((-1,1,len(maze),len(maze))), K, padding=1)\n",
    "    \n",
    "    # Exclude walls, and elements in the closed set:\n",
    "    v_nbr = v_nbr * (1 - cells) * (1 - o.detach()) * (1 - c)\n",
    "    v_bar_nbr = v_nbr * (1 - cells) * (o.detach()) * (1 - c)\n",
    "    \n",
    "    return v_nbr, v_bar_nbr\n",
    "\n",
    "mazes = torch.stack([torch.Tensor(maze), torch.Tensor(maze2)]).reshape(-1,1,maze.shape[0], maze.shape[0])\n",
    "v_star_I = get_v_star_I(v_star)\n",
    "    \n",
    "o = torch.zeros(get_maze_shape(maze, n=2), dtype=torch.float32)    \n",
    "c = torch.zeros(get_maze_shape(maze, n=2), dtype=torch.float32)\n",
    "    \n",
    "v_nbr, v_bar_nbr = node_expansion(v_star, mazes, o, c)\n",
    "v_nbr.shape, v_bar_nbr.shape, v_star, mazes.shape, o.shape, c.shape"
   ]
  },
  {
   "cell_type": "code",
   "execution_count": 7,
   "id": "ac9cb0fe",
   "metadata": {},
   "outputs": [
    {
     "name": "stdout",
     "output_type": "stream",
     "text": [
      "v_star_I\n"
     ]
    },
    {
     "data": {
      "text/plain": [
       "<matplotlib.image.AxesImage at 0x20127be9460>"
      ]
     },
     "execution_count": 7,
     "metadata": {},
     "output_type": "execute_result"
    },
    {
     "data": {
      "image/png": "[encoded data removed]",
      "text/plain": [
       "<Figure size 432x288 with 1 Axes>"
      ]
     },
     "metadata": {
      "needs_background": "light"
     },
     "output_type": "display_data"
    }
   ],
   "source": [
    "print(\"v_star_I\")\n",
    "plt.imshow(maze + v_star_I[0].numpy().reshape((maze.shape[0],maze.shape[0]))*2)"
   ]
  },
  {
   "cell_type": "code",
   "execution_count": 8,
   "id": "3327e2c0",
   "metadata": {},
   "outputs": [
    {
     "name": "stdout",
     "output_type": "stream",
     "text": [
      "node expansion\n"
     ]
    },
    {
     "data": {
      "text/plain": [
       "<matplotlib.image.AxesImage at 0x20127b43e50>"
      ]
     },
     "execution_count": 8,
     "metadata": {},
     "output_type": "execute_result"
    },
    {
     "data": {
      "image/png": "[encoded data removed]",
      "text/plain": [
       "<Figure size 432x288 with 1 Axes>"
      ]
     },
     "metadata": {
      "needs_background": "light"
     },
     "output_type": "display_data"
    }
   ],
   "source": [
    "print(\"node expansion\")\n",
    "plt.imshow(maze + v_nbr[0].detach().numpy().reshape((maze.shape[0],maze.shape[0]))*2)"
   ]
  },
  {
   "cell_type": "markdown",
   "id": "0eaeaef6",
   "metadata": {},
   "source": [
    "# Updating Guidance Costs"
   ]
  },
  {
   "cell_type": "code",
   "execution_count": 9,
   "id": "14a81573",
   "metadata": {},
   "outputs": [
    {
     "name": "stdout",
     "output_type": "stream",
     "text": [
      "Updated guidance costs\n",
      "g torch.Size([2, 1, 32, 32])\n",
      "torch.Size([2, 1, 32, 32])\n"
     ]
    },
    {
     "data": {
      "text/plain": [
       "<matplotlib.image.AxesImage at 0x20125a62070>"
      ]
     },
     "execution_count": 9,
     "metadata": {},
     "output_type": "execute_result"
    },
    {
     "data": {
      "image/png": "[encoded data removed]",
      "text/plain": [
       "<Figure size 432x288 with 1 Axes>"
      ]
     },
     "metadata": {
      "needs_background": "light"
     },
     "output_type": "display_data"
    }
   ],
   "source": [
    "def update_guidance_costs(v_star, \n",
    "                          v_nbr, \n",
    "                          v_bar_nbr, \n",
    "                          phi, \n",
    "                          g):\n",
    "    v_star_I = get_v_star_I(v_star)\n",
    "    \n",
    "    # Temporary; needs to be in x,x,r,c for batching\n",
    "#     v_nbr = v_nbr.reshape(g.shape)\n",
    "#     v_bar_nbr = v_bar_nbr.reshape(g.shape)\n",
    "    global BATCH_SIZE\n",
    "    try:\n",
    "        gp = g @ v_star_I.reshape(get_maze_shape(maze,n=BATCH_SIZE,channels=True)) + phi\n",
    "    except:\n",
    "        print(g.shape, v_star_I.T.shape, phi.shape)\n",
    "        raise Exception()\n",
    "        \n",
    "    g = gp * v_nbr + torch.minimum(g, gp) * v_bar_nbr\n",
    "    g = g + g * (torch.ones(g.shape) - v_nbr - v_bar_nbr)\n",
    "    return g.float()\n",
    "\n",
    "print(\"Updated guidance costs\")\n",
    "print(\"g\", g.shape)\n",
    "phi = np.random.rand(len(g.flatten())).reshape(g.shape)\n",
    "phi = torch.Tensor(phi)\n",
    "new_g = update_guidance_costs(v_star, v_nbr, v_bar_nbr, phi, g)\n",
    "print(new_g.shape)\n",
    "plt.imshow(new_g.squeeze()[0].detach().numpy())\n"
   ]
  },
  {
   "cell_type": "markdown",
   "id": "5459ca71",
   "metadata": {},
   "source": [
    "# Minibatch Training"
   ]
  },
  {
   "cell_type": "code",
   "execution_count": 10,
   "id": "67b32d86",
   "metadata": {},
   "outputs": [
    {
     "data": {
      "text/plain": [
       "tensor([[[[0, 0, 0,  ..., 0, 0, 0],\n",
       "          [0, 0, 0,  ..., 0, 0, 0],\n",
       "          [0, 0, 0,  ..., 0, 0, 0],\n",
       "          ...,\n",
       "          [0, 0, 0,  ..., 0, 0, 0],\n",
       "          [0, 0, 0,  ..., 0, 0, 0],\n",
       "          [0, 0, 0,  ..., 0, 0, 0]]],\n",
       "\n",
       "\n",
       "        [[[1, 1, 1,  ..., 1, 1, 1],\n",
       "          [1, 1, 1,  ..., 1, 1, 1],\n",
       "          [1, 1, 1,  ..., 1, 1, 1],\n",
       "          ...,\n",
       "          [1, 1, 1,  ..., 1, 1, 1],\n",
       "          [1, 1, 1,  ..., 1, 1, 1],\n",
       "          [1, 1, 1,  ..., 1, 1, 1]]]])"
      ]
     },
     "execution_count": 10,
     "metadata": {},
     "output_type": "execute_result"
    }
   ],
   "source": [
    "def get_verification_flag(v_star, maze):\n",
    "    goal_index = len(maze) ** 2 - len(maze) - 1\n",
    "    n = 1 - torch.eq(torch.Tensor(v_star), goal_index).int()\n",
    "    n = torch.stack([torch.full(maze.shape, n_) for n_ in n])\n",
    "    return n.reshape(get_maze_shape(maze, n = mazes.shape[0], channels=True))\n",
    "\n",
    "def vector_to_I(v, maze):\n",
    "    v_I = torch.zeros(maze.shape)\n",
    "    v_I.flatten()[v] = 1\n",
    "    return v_I\n",
    "\n",
    "goal = len(maze) ** 2 - len(maze) - 1\n",
    "get_verification_flag(torch.Tensor([goal, 2]), maze)"
   ]
  },
  {
   "cell_type": "markdown",
   "id": "e7545dc9",
   "metadata": {},
   "source": [
    "# Backtracking"
   ]
  },
  {
   "cell_type": "code",
   "execution_count": 11,
   "id": "50f55d82",
   "metadata": {},
   "outputs": [],
   "source": [
    "def backtrack(parents):\n",
    "    path = torch.zeros(maze.shape)\n",
    "    parent = parents[-2,-2]\n",
    "    while parent != 0:\n",
    "        parent = parent.int().item()\n",
    "        path.flatten()[parent] = 1\n",
    "        parent = parents.flatten()[parent]\n",
    "    return path"
   ]
  },
  {
   "cell_type": "markdown",
   "id": "2d4112a5",
   "metadata": {},
   "source": [
    "# Network"
   ]
  },
  {
   "cell_type": "code",
   "execution_count": 60,
   "id": "aa646c03",
   "metadata": {},
   "outputs": [],
   "source": [
    "class Network(torch.nn.Module):\n",
    "    def __init__(self):\n",
    "        super().__init__()\n",
    "        \n",
    "        self.encoder = torch.nn.Sequential(\n",
    "                torch.nn.Conv2d(1, 8, 3, stride=2, padding=1),\n",
    "                torch.nn.ReLU(True),\n",
    "                torch.nn.Conv2d(8, 16, 3, stride=2, padding=1),\n",
    "                torch.nn.ReLU(True),\n",
    "                torch.nn.Conv2d(16, 32, 3, stride=2, padding=0),\n",
    "                torch.nn.ReLU(True)\n",
    "            )\n",
    "        \n",
    "        self.decoder = torch.nn.Sequential(\n",
    "                torch.nn.ConvTranspose2d(32, 16, 3, stride=2, output_padding=1),\n",
    "                torch.nn.ReLU(True),\n",
    "                torch.nn.ConvTranspose2d(16, 8, 3, stride=2, padding=1, output_padding=1),\n",
    "                torch.nn.ReLU(True),\n",
    "                torch.nn.ConvTranspose2d(8, 1, 3, stride=2, padding=1, output_padding=0)\n",
    "    )\n",
    "    \n",
    "    def forward(self, x):\n",
    "        x = x.reshape((-1,1,MAZE_SHAPE[0], MAZE_SHAPE[0]))\n",
    "        y = self.encoder(x)\n",
    "        z = self.decoder(y)\n",
    "        return z"
   ]
  },
  {
   "cell_type": "code",
   "execution_count": 13,
   "id": "f45fd1bc",
   "metadata": {},
   "outputs": [],
   "source": [
    "class UNet(torch.nn.Module):\n",
    "    def __init__(self):\n",
    "        super().__init__()\n",
    "        self.model = smp.Unet(encoder_name=\"vgg16_bn\", \n",
    "                             encoder_weights=None, \n",
    "                             classes=1,\n",
    "                             in_channels=1,\n",
    "                             encoder_depth=3,\n",
    "                             decoder_channels=[128, 64, 32])\n",
    "    def forward(self, x):\n",
    "        return torch.sigmoid(self.model(x))"
   ]
  },
  {
   "cell_type": "markdown",
   "id": "825af563",
   "metadata": {},
   "source": [
    "# Putting it together"
   ]
  },
  {
   "cell_type": "code",
   "execution_count": 61,
   "id": "bdc9c9ce",
   "metadata": {},
   "outputs": [],
   "source": [
    "# create new network\n",
    "net = UNet()"
   ]
  },
  {
   "cell_type": "code",
   "execution_count": 15,
   "id": "3beb211e",
   "metadata": {},
   "outputs": [
    {
     "name": "stdout",
     "output_type": "stream",
     "text": [
      "645\n"
     ]
    }
   ],
   "source": [
    "batch_i = 0\n",
    "mazes, solutions = load_batch(BATCH_SIZE)\n",
    "\n",
    "# compute phi from the encoder\n",
    "phi = net(torch.Tensor(mazes))*2\n",
    "batch_shape = get_maze_shape(maze, n = mazes.shape[0], channels=True)\n",
    "\n",
    "# initialize the openset, closed set, guidance map, parents\n",
    "o = torch.zeros(batch_shape, dtype=torch.float32)\n",
    "c = torch.zeros(batch_shape, dtype=torch.float32)\n",
    "g = torch.zeros(batch_shape, dtype=torch.float32)\n",
    "\n",
    "# initialize h map\n",
    "h = get_h_map(maze)\n",
    "h = torch.stack([h for _ in range(batch_shape[0])])\n",
    "h = h.reshape(-1,1,maze.shape[0], maze.shape[0])\n",
    "\n",
    "parents = torch.zeros(batch_shape)\n",
    "\n",
    "# initialize goal\n",
    "for openset in o:\n",
    "    openset[0,1,1] = 1\n",
    "\n",
    "for i in range(1000):\n",
    "    # Perform node selection\n",
    "    v_star = node_selection(o,g,h)\n",
    "\n",
    "    # Get verification flags (computing n)\n",
    "    n = get_verification_flag(v_star, maze)\n",
    "\n",
    "    # Update open-set / closed-set\n",
    "    v_star_I = get_v_star_I(v_star, square=True, channels=True)\n",
    "    o = o - n * v_star_I.reshape(batch_shape).float()\n",
    "    c = c + n * v_star_I.reshape(batch_shape).float()\n",
    "\n",
    "    # Expand the node neighbourhood, update open-set\n",
    "    v_nbr, v_bar_nbr = node_expansion(v_star, mazes, o, c)\n",
    "    o = o + v_nbr\n",
    "\n",
    "    # Update g\n",
    "    g = update_guidance_costs(v_star, v_nbr, v_bar_nbr, phi, g)\n",
    "\n",
    "    # Update parents\n",
    "    for j in range(len(v_nbr)):\n",
    "        for ix in np.nonzero(v_nbr[j][0]):\n",
    "            parents[j][0][ix[0]][ix[1]] = v_star[j]\n",
    "    \n",
    "    # If all our verification flags return as false; we're done. Exit.\n",
    "    if torch.all(torch.Tensor([x.all() for x in n.squeeze()]) == False) == True:\n",
    "        break\n",
    "print(i)"
   ]
  },
  {
   "cell_type": "code",
   "execution_count": 16,
   "id": "dd20c049",
   "metadata": {},
   "outputs": [
    {
     "data": {
      "text/plain": [
       "(tensor(0.4211, grad_fn=<MinBackward1>),\n",
       " tensor(1.9848, grad_fn=<MaxBackward1>))"
      ]
     },
     "execution_count": 16,
     "metadata": {},
     "output_type": "execute_result"
    },
    {
     "data": {
      "image/png": "[encoded data removed]",
      "text/plain": [
       "<Figure size 432x288 with 2 Axes>"
      ]
     },
     "metadata": {
      "needs_background": "light"
     },
     "output_type": "display_data"
    }
   ],
   "source": [
    "# Guidance Map\n",
    "plt.imshow(phi[0].squeeze().detach().numpy(), cmap=plt.cm.bwr)\n",
    "plt.colorbar()\n",
    "phi.min(), phi.max()\n"
   ]
  },
  {
   "cell_type": "code",
   "execution_count": 17,
   "id": "0bd43d22",
   "metadata": {},
   "outputs": [
    {
     "data": {
      "text/plain": [
       "(tensor(0.4211, grad_fn=<MinBackward1>),\n",
       " tensor(1.9848, grad_fn=<MaxBackward1>))"
      ]
     },
     "execution_count": 17,
     "metadata": {},
     "output_type": "execute_result"
    },
    {
     "data": {
      "image/png": "[encoded data removed]",
      "text/plain": [
       "<Figure size 432x288 with 2 Axes>"
      ]
     },
     "metadata": {
      "needs_background": "light"
     },
     "output_type": "display_data"
    }
   ],
   "source": [
    "# Guidance map overlayed on h-cost map\n",
    "plt.imshow(phi[0].squeeze().detach().numpy() + h[0].squeeze().detach().numpy(), cmap=plt.cm.bwr)\n",
    "plt.colorbar()\n",
    "phi.min(), phi.max()"
   ]
  },
  {
   "cell_type": "code",
   "execution_count": 18,
   "id": "5a48106d",
   "metadata": {},
   "outputs": [
    {
     "data": {
      "text/plain": [
       "<matplotlib.image.AxesImage at 0x20131b23d90>"
      ]
     },
     "execution_count": 18,
     "metadata": {},
     "output_type": "execute_result"
    },
    {
     "data": {
      "image/png": "[encoded data removed]",
      "text/plain": [
       "<Figure size 432x288 with 1 Axes>"
      ]
     },
     "metadata": {
      "needs_background": "light"
     },
     "output_type": "display_data"
    }
   ],
   "source": [
    "# Examining the closed sets\n",
    "i = 1\n",
    "plt.imshow(c[i].squeeze().numpy()*2 + mazes[i].squeeze().numpy())"
   ]
  },
  {
   "cell_type": "code",
   "execution_count": 19,
   "id": "e7cdde8c",
   "metadata": {},
   "outputs": [
    {
     "data": {
      "text/plain": [
       "<matplotlib.image.AxesImage at 0x20131b8ab80>"
      ]
     },
     "execution_count": 19,
     "metadata": {},
     "output_type": "execute_result"
    },
    {
     "data": {
      "image/png": "[encoded data removed]",
      "text/plain": [
       "<Figure size 432x288 with 1 Axes>"
      ]
     },
     "metadata": {
      "needs_background": "light"
     },
     "output_type": "display_data"
    }
   ],
   "source": [
    "# Examining the open sets\n",
    "plt.imshow(o[i].squeeze().numpy()*2 + mazes[i].squeeze().numpy())"
   ]
  },
  {
   "cell_type": "code",
   "execution_count": 20,
   "id": "1dcf8ff7",
   "metadata": {},
   "outputs": [
    {
     "data": {
      "text/plain": [
       "<matplotlib.image.AxesImage at 0x20131bf3880>"
      ]
     },
     "execution_count": 20,
     "metadata": {},
     "output_type": "execute_result"
    },
    {
     "data": {
      "image/png": "[encoded data removed]",
      "text/plain": [
       "<Figure size 432x288 with 1 Axes>"
      ]
     },
     "metadata": {
      "needs_background": "light"
     },
     "output_type": "display_data"
    }
   ],
   "source": [
    "# Differentiable A* solution\n",
    "plt.imshow(backtrack(parents.squeeze()[i])*2 + mazes[i].squeeze())"
   ]
  },
  {
   "cell_type": "code",
   "execution_count": 21,
   "id": "7e29574c",
   "metadata": {},
   "outputs": [
    {
     "data": {
      "text/plain": [
       "<matplotlib.image.AxesImage at 0x20131c5f610>"
      ]
     },
     "execution_count": 21,
     "metadata": {},
     "output_type": "execute_result"
    },
    {
     "data": {
      "image/png": "[encoded data removed]",
      "text/plain": [
       "<Figure size 432x288 with 1 Axes>"
      ]
     },
     "metadata": {
      "needs_background": "light"
     },
     "output_type": "display_data"
    }
   ],
   "source": [
    "# A* Solution\n",
    "plt.imshow(mazes[i].squeeze() + solutions[i].squeeze()*2)"
   ]
  },
  {
   "cell_type": "code",
   "execution_count": 22,
   "id": "e577e146",
   "metadata": {},
   "outputs": [
    {
     "data": {
      "text/plain": [
       "<matplotlib.image.AxesImage at 0x20131cd02b0>"
      ]
     },
     "execution_count": 22,
     "metadata": {},
     "output_type": "execute_result"
    },
    {
     "data": {
      "image/png": "[encoded data removed]",
      "text/plain": [
       "<Figure size 432x288 with 1 Axes>"
      ]
     },
     "metadata": {
      "needs_background": "light"
     },
     "output_type": "display_data"
    }
   ],
   "source": [
    "plt.imshow(solutions[i].squeeze())"
   ]
  },
  {
   "cell_type": "code",
   "execution_count": 23,
   "id": "47b607d7",
   "metadata": {},
   "outputs": [
    {
     "data": {
      "text/plain": [
       "<matplotlib.image.AxesImage at 0x20131d385b0>"
      ]
     },
     "execution_count": 23,
     "metadata": {},
     "output_type": "execute_result"
    },
    {
     "data": {
      "image/png": "[encoded data removed]",
      "text/plain": [
       "<Figure size 432x288 with 1 Axes>"
      ]
     },
     "metadata": {
      "needs_background": "light"
     },
     "output_type": "display_data"
    }
   ],
   "source": [
    "# Example of Loss\n",
    "loss = c[i].squeeze() - solutions[i].squeeze()\n",
    "plt.imshow(loss.detach().numpy())"
   ]
  },
  {
   "cell_type": "markdown",
   "id": "8f4562c0",
   "metadata": {},
   "source": [
    "# Training\n",
    "##### The weights currently don't change  (see video/paper for further explanation, and below for debugging)"
   ]
  },
  {
   "cell_type": "code",
   "execution_count": 24,
   "id": "e03edc2a",
   "metadata": {},
   "outputs": [
    {
     "name": "stdout",
     "output_type": "stream",
     "text": [
      "Starting epoch 0\n",
      " ==============================\n",
      "  1/125 - duration: 4.15 - loss: 0.23193359375\n",
      "Starting epoch 1\n",
      " ==============================\n",
      "  1/125 - duration: 4.04 - loss: 0.23193359375\n",
      "Starting epoch 2\n",
      " ==============================\n",
      "  1/125 - duration: 3.91 - loss: 0.23193359375\n",
      "Starting epoch 3\n",
      " ==============================\n",
      "  1/125 - duration: 3.92 - loss: 0.23193359375\n",
      "Starting epoch 4\n",
      " ==============================\n",
      "  1/125 - duration: 4.06 - loss: 0.23193359375\n",
      "Starting epoch 5\n",
      " ==============================\n",
      "  1/125 - duration: 4.02 - loss: 0.23193359375\n",
      "Starting epoch 6\n",
      " ==============================\n",
      "  1/125 - duration: 3.97 - loss: 0.23193359375\n",
      "Starting epoch 7\n",
      " ==============================\n",
      "  1/125 - duration: 3.99 - loss: 0.23193359375\n",
      "Starting epoch 8\n",
      " ==============================\n",
      "  1/125 - duration: 4.00 - loss: 0.23193359375\n",
      "Starting epoch 9\n",
      " ==============================\n",
      "  1/125 - duration: 3.99 - loss: 0.23193359375\n"
     ]
    }
   ],
   "source": [
    "# Network Parameters\n",
    "batch_i = 0\n",
    "BATCH_SIZE = 8\n",
    "lr = 0.5\n",
    "\n",
    "net = UNet()\n",
    "optimizer = torch.optim.SGD(net.parameters(), lr=lr, momentum=0.9)\n",
    "loss_fn = torch.nn.MSELoss()\n",
    "\n",
    "train_loss = []\n",
    "\n",
    "for epoch in range(10):\n",
    "    print(f\"Starting epoch {epoch}\\n\",\"=\"*30)\n",
    "    batch_i = 0\n",
    "    it = 0\n",
    "    # iterate until out of mazes/solutions; then go to the next epoch. //b*b helps us ensure we \n",
    "    # operate within multiples of the batch size\n",
    "    epoch_start = time()\n",
    "    while batch_i < len(maze_data[:8]) // BATCH_SIZE * BATCH_SIZE:\n",
    "        it_start = time()\n",
    "        it += 1            \n",
    "        \n",
    "        # load mazes and solutions\n",
    "        mazes, solutions = load_batch(BATCH_SIZE)\n",
    "        optimizer.zero_grad()\n",
    "\n",
    "        # compute phi from the encoder\n",
    "        phi = net(torch.Tensor(mazes))*2\n",
    "        batch_shape = get_maze_shape(maze, n = mazes.shape[0], channels=True)\n",
    "\n",
    "        # initialize the openset, closed set, guidance map, parents\n",
    "        o = torch.zeros(batch_shape, dtype=torch.float32)\n",
    "        c = torch.zeros(batch_shape, dtype=torch.float32, requires_grad=True)\n",
    "        c.retain_grad()\n",
    "        g = torch.zeros(batch_shape, dtype=torch.float32)\n",
    "\n",
    "        # initialize h map\n",
    "        h = get_h_map(maze)\n",
    "        h = torch.stack([h for _ in range(batch_shape[0])])\n",
    "        h = h.reshape(-1,1,maze.shape[0], maze.shape[0])\n",
    "\n",
    "        parents = torch.zeros(batch_shape)\n",
    "\n",
    "        # initialize goal\n",
    "        for openset in o:\n",
    "            openset[0,1,1] = 1\n",
    "\n",
    "        # 1000 is max number before we cancel incase we hit a weird loop (max should be 23x23)\n",
    "        for i in range(1000):\n",
    "            # Perform node selection\n",
    "            v_star = node_selection(o,g,h)\n",
    "\n",
    "            # Get verification flags (computing n)\n",
    "            n = get_verification_flag(v_star, maze)\n",
    "\n",
    "            # Update open-set / closed-set\n",
    "            v_star_I = get_v_star_I(v_star, square=True, channels=True)\n",
    "            o = o - n * v_star_I.reshape(batch_shape).float()\n",
    "            c = c + n * v_star_I.reshape(batch_shape).float()\n",
    "\n",
    "            # Expand the node neighbourhood, update open-set\n",
    "            v_nbr, v_bar_nbr = node_expansion(v_star, mazes, o, c)\n",
    "            o = o + v_nbr\n",
    "\n",
    "            # Update g\n",
    "            g = update_guidance_costs(v_star, v_nbr, v_bar_nbr, phi, g)\n",
    "\n",
    "            # Update parents\n",
    "            for j in range(len(v_nbr)):\n",
    "                for ix in np.nonzero(v_nbr[j][0]):\n",
    "                    parents[j][0][ix[0]][ix[1]] = v_star[j]\n",
    "\n",
    "            # If all our verification flags return as false; we're done. Exit.\n",
    "            if torch.all(torch.Tensor([x.all() for x in n.squeeze()]) == False) == True:\n",
    "                break\n",
    "        # calculate loss; closed sets are the output, solutions are the target\n",
    "        loss = loss_fn(c.squeeze(), solutions.squeeze())\n",
    "\n",
    "        # back propagate\n",
    "        loss.backward()\n",
    "\n",
    "        # take an optimization step\n",
    "        optimizer.step()\n",
    "                    \n",
    "        # print\n",
    "        if it % 1 == 0:\n",
    "            print(f\"{it:3d}/{len(maze_data) // BATCH_SIZE} - duration: {time() - it_start:4.2f} - loss: {loss.item()}\")\n",
    "        train_loss.append(loss.detach().cpu().numpy())"
   ]
  },
  {
   "cell_type": "code",
   "execution_count": 25,
   "id": "748e4d4d",
   "metadata": {},
   "outputs": [
    {
     "name": "stderr",
     "output_type": "stream",
     "text": [
      "C:\\Users\\db2admin\\AppData\\Local\\Temp\\ipykernel_3612\\2950652411.py:1: UserWarning: The .grad attribute of a Tensor that is not a leaf Tensor is being accessed. Its .grad attribute won't be populated during autograd.backward(). If you indeed want the .grad field to be populated for a non-leaf Tensor, use .retain_grad() on the non-leaf Tensor. If you access the non-leaf Tensor by mistake, make sure you access the leaf Tensor instead. See github.com/pytorch/pytorch/pull/30531 for more informations. (Triggered internally at C:\\actions-runner\\_work\\pytorch\\pytorch\\builder\\windows\\pytorch\\build\\aten\\src\\ATen/core/TensorBody.h:491.)\n",
      "  c.grad\n"
     ]
    }
   ],
   "source": [
    "c.grad"
   ]
  },
  {
   "cell_type": "markdown",
   "id": "171b7652",
   "metadata": {},
   "source": [
    "# Debugging Attempt with Tensorboard\n",
    "##### Doesn't work; gradients are being passed correctly"
   ]
  },
  {
   "cell_type": "code",
   "execution_count": 62,
   "id": "4c8d36bb",
   "metadata": {},
   "outputs": [
    {
     "name": "stdout",
     "output_type": "stream",
     "text": [
      "Starting epoch 0\n",
      " ==============================\n"
     ]
    },
    {
     "ename": "RuntimeError",
     "evalue": "Output 0 of BackwardHookFunctionBackward is a view and is being modified inplace. This view was created inside a custom Function (or because an input was returned as-is) and the autograd logic to handle view+inplace would override the custom backward associated with the custom Function, leading to incorrect gradients. This behavior is forbidden. You can fix this by cloning the output of the custom Function.",
     "output_type": "error",
     "traceback": [
      "\u001b[1;31m---------------------------------------------------------------------------\u001b[0m",
      "\u001b[1;31mRuntimeError\u001b[0m                              Traceback (most recent call last)",
      "Input \u001b[1;32mIn [62]\u001b[0m, in \u001b[0;36m<module>\u001b[1;34m\u001b[0m\n\u001b[0;32m     41\u001b[0m optimizer\u001b[38;5;241m.\u001b[39mzero_grad()\n\u001b[0;32m     43\u001b[0m \u001b[38;5;66;03m# compute phi from the encoder\u001b[39;00m\n\u001b[1;32m---> 44\u001b[0m phi \u001b[38;5;241m=\u001b[39m \u001b[43mnet\u001b[49m\u001b[43m(\u001b[49m\u001b[43mtorch\u001b[49m\u001b[38;5;241;43m.\u001b[39;49m\u001b[43mTensor\u001b[49m\u001b[43m(\u001b[49m\u001b[43mmazes\u001b[49m\u001b[43m)\u001b[49m\u001b[43m)\u001b[49m\n\u001b[0;32m     45\u001b[0m batch_shape \u001b[38;5;241m=\u001b[39m get_maze_shape(maze, n \u001b[38;5;241m=\u001b[39m mazes\u001b[38;5;241m.\u001b[39mshape[\u001b[38;5;241m0\u001b[39m], channels\u001b[38;5;241m=\u001b[39m\u001b[38;5;28;01mTrue\u001b[39;00m)\n\u001b[0;32m     47\u001b[0m \u001b[38;5;66;03m# initialize the openset, closed set, guidance map, parents\u001b[39;00m\n",
      "File \u001b[1;32m~\\AppData\\Local\\Programs\\Python\\Python39\\lib\\site-packages\\torch\\nn\\modules\\module.py:1501\u001b[0m, in \u001b[0;36mModule._call_impl\u001b[1;34m(self, *args, **kwargs)\u001b[0m\n\u001b[0;32m   1496\u001b[0m \u001b[38;5;66;03m# If we don't have any hooks, we want to skip the rest of the logic in\u001b[39;00m\n\u001b[0;32m   1497\u001b[0m \u001b[38;5;66;03m# this function, and just call forward.\u001b[39;00m\n\u001b[0;32m   1498\u001b[0m \u001b[38;5;28;01mif\u001b[39;00m \u001b[38;5;129;01mnot\u001b[39;00m (\u001b[38;5;28mself\u001b[39m\u001b[38;5;241m.\u001b[39m_backward_hooks \u001b[38;5;129;01mor\u001b[39;00m \u001b[38;5;28mself\u001b[39m\u001b[38;5;241m.\u001b[39m_backward_pre_hooks \u001b[38;5;129;01mor\u001b[39;00m \u001b[38;5;28mself\u001b[39m\u001b[38;5;241m.\u001b[39m_forward_hooks \u001b[38;5;129;01mor\u001b[39;00m \u001b[38;5;28mself\u001b[39m\u001b[38;5;241m.\u001b[39m_forward_pre_hooks\n\u001b[0;32m   1499\u001b[0m         \u001b[38;5;129;01mor\u001b[39;00m _global_backward_pre_hooks \u001b[38;5;129;01mor\u001b[39;00m _global_backward_hooks\n\u001b[0;32m   1500\u001b[0m         \u001b[38;5;129;01mor\u001b[39;00m _global_forward_hooks \u001b[38;5;129;01mor\u001b[39;00m _global_forward_pre_hooks):\n\u001b[1;32m-> 1501\u001b[0m     \u001b[38;5;28;01mreturn\u001b[39;00m forward_call(\u001b[38;5;241m*\u001b[39margs, \u001b[38;5;241m*\u001b[39m\u001b[38;5;241m*\u001b[39mkwargs)\n\u001b[0;32m   1502\u001b[0m \u001b[38;5;66;03m# Do not call functions when jit is used\u001b[39;00m\n\u001b[0;32m   1503\u001b[0m full_backward_hooks, non_full_backward_hooks \u001b[38;5;241m=\u001b[39m [], []\n",
      "Input \u001b[1;32mIn [60]\u001b[0m, in \u001b[0;36mNetwork.forward\u001b[1;34m(self, x)\u001b[0m\n\u001b[0;32m     22\u001b[0m \u001b[38;5;28;01mdef\u001b[39;00m \u001b[38;5;21mforward\u001b[39m(\u001b[38;5;28mself\u001b[39m, x):\n\u001b[0;32m     23\u001b[0m     x \u001b[38;5;241m=\u001b[39m x\u001b[38;5;241m.\u001b[39mreshape((\u001b[38;5;241m-\u001b[39m\u001b[38;5;241m1\u001b[39m,\u001b[38;5;241m1\u001b[39m,MAZE_SHAPE[\u001b[38;5;241m0\u001b[39m], MAZE_SHAPE[\u001b[38;5;241m0\u001b[39m]))\n\u001b[1;32m---> 24\u001b[0m     y \u001b[38;5;241m=\u001b[39m \u001b[38;5;28;43mself\u001b[39;49m\u001b[38;5;241;43m.\u001b[39;49m\u001b[43mencoder\u001b[49m\u001b[43m(\u001b[49m\u001b[43mx\u001b[49m\u001b[43m)\u001b[49m\n\u001b[0;32m     25\u001b[0m     z \u001b[38;5;241m=\u001b[39m \u001b[38;5;28mself\u001b[39m\u001b[38;5;241m.\u001b[39mdecoder(y)\n\u001b[0;32m     26\u001b[0m     \u001b[38;5;28;01mreturn\u001b[39;00m z\n",
      "File \u001b[1;32m~\\AppData\\Local\\Programs\\Python\\Python39\\lib\\site-packages\\torch\\nn\\modules\\module.py:1501\u001b[0m, in \u001b[0;36mModule._call_impl\u001b[1;34m(self, *args, **kwargs)\u001b[0m\n\u001b[0;32m   1496\u001b[0m \u001b[38;5;66;03m# If we don't have any hooks, we want to skip the rest of the logic in\u001b[39;00m\n\u001b[0;32m   1497\u001b[0m \u001b[38;5;66;03m# this function, and just call forward.\u001b[39;00m\n\u001b[0;32m   1498\u001b[0m \u001b[38;5;28;01mif\u001b[39;00m \u001b[38;5;129;01mnot\u001b[39;00m (\u001b[38;5;28mself\u001b[39m\u001b[38;5;241m.\u001b[39m_backward_hooks \u001b[38;5;129;01mor\u001b[39;00m \u001b[38;5;28mself\u001b[39m\u001b[38;5;241m.\u001b[39m_backward_pre_hooks \u001b[38;5;129;01mor\u001b[39;00m \u001b[38;5;28mself\u001b[39m\u001b[38;5;241m.\u001b[39m_forward_hooks \u001b[38;5;129;01mor\u001b[39;00m \u001b[38;5;28mself\u001b[39m\u001b[38;5;241m.\u001b[39m_forward_pre_hooks\n\u001b[0;32m   1499\u001b[0m         \u001b[38;5;129;01mor\u001b[39;00m _global_backward_pre_hooks \u001b[38;5;129;01mor\u001b[39;00m _global_backward_hooks\n\u001b[0;32m   1500\u001b[0m         \u001b[38;5;129;01mor\u001b[39;00m _global_forward_hooks \u001b[38;5;129;01mor\u001b[39;00m _global_forward_pre_hooks):\n\u001b[1;32m-> 1501\u001b[0m     \u001b[38;5;28;01mreturn\u001b[39;00m forward_call(\u001b[38;5;241m*\u001b[39margs, \u001b[38;5;241m*\u001b[39m\u001b[38;5;241m*\u001b[39mkwargs)\n\u001b[0;32m   1502\u001b[0m \u001b[38;5;66;03m# Do not call functions when jit is used\u001b[39;00m\n\u001b[0;32m   1503\u001b[0m full_backward_hooks, non_full_backward_hooks \u001b[38;5;241m=\u001b[39m [], []\n",
      "File \u001b[1;32m~\\AppData\\Local\\Programs\\Python\\Python39\\lib\\site-packages\\torch\\nn\\modules\\container.py:217\u001b[0m, in \u001b[0;36mSequential.forward\u001b[1;34m(self, input)\u001b[0m\n\u001b[0;32m    215\u001b[0m \u001b[38;5;28;01mdef\u001b[39;00m \u001b[38;5;21mforward\u001b[39m(\u001b[38;5;28mself\u001b[39m, \u001b[38;5;28minput\u001b[39m):\n\u001b[0;32m    216\u001b[0m     \u001b[38;5;28;01mfor\u001b[39;00m module \u001b[38;5;129;01min\u001b[39;00m \u001b[38;5;28mself\u001b[39m:\n\u001b[1;32m--> 217\u001b[0m         \u001b[38;5;28minput\u001b[39m \u001b[38;5;241m=\u001b[39m \u001b[43mmodule\u001b[49m\u001b[43m(\u001b[49m\u001b[38;5;28;43minput\u001b[39;49m\u001b[43m)\u001b[49m\n\u001b[0;32m    218\u001b[0m     \u001b[38;5;28;01mreturn\u001b[39;00m \u001b[38;5;28minput\u001b[39m\n",
      "File \u001b[1;32m~\\AppData\\Local\\Programs\\Python\\Python39\\lib\\site-packages\\torch\\nn\\modules\\module.py:1538\u001b[0m, in \u001b[0;36mModule._call_impl\u001b[1;34m(self, *args, **kwargs)\u001b[0m\n\u001b[0;32m   1535\u001b[0m     bw_hook \u001b[38;5;241m=\u001b[39m hooks\u001b[38;5;241m.\u001b[39mBackwardHook(\u001b[38;5;28mself\u001b[39m, full_backward_hooks, backward_pre_hooks)\n\u001b[0;32m   1536\u001b[0m     args \u001b[38;5;241m=\u001b[39m bw_hook\u001b[38;5;241m.\u001b[39msetup_input_hook(args)\n\u001b[1;32m-> 1538\u001b[0m result \u001b[38;5;241m=\u001b[39m forward_call(\u001b[38;5;241m*\u001b[39margs, \u001b[38;5;241m*\u001b[39m\u001b[38;5;241m*\u001b[39mkwargs)\n\u001b[0;32m   1539\u001b[0m \u001b[38;5;28;01mif\u001b[39;00m _global_forward_hooks \u001b[38;5;129;01mor\u001b[39;00m \u001b[38;5;28mself\u001b[39m\u001b[38;5;241m.\u001b[39m_forward_hooks:\n\u001b[0;32m   1540\u001b[0m     \u001b[38;5;28;01mfor\u001b[39;00m hook_id, hook \u001b[38;5;129;01min\u001b[39;00m (\n\u001b[0;32m   1541\u001b[0m         \u001b[38;5;241m*\u001b[39m_global_forward_hooks\u001b[38;5;241m.\u001b[39mitems(),\n\u001b[0;32m   1542\u001b[0m         \u001b[38;5;241m*\u001b[39m\u001b[38;5;28mself\u001b[39m\u001b[38;5;241m.\u001b[39m_forward_hooks\u001b[38;5;241m.\u001b[39mitems(),\n\u001b[0;32m   1543\u001b[0m     ):\n",
      "File \u001b[1;32m~\\AppData\\Local\\Programs\\Python\\Python39\\lib\\site-packages\\torch\\nn\\modules\\activation.py:103\u001b[0m, in \u001b[0;36mReLU.forward\u001b[1;34m(self, input)\u001b[0m\n\u001b[0;32m    102\u001b[0m \u001b[38;5;28;01mdef\u001b[39;00m \u001b[38;5;21mforward\u001b[39m(\u001b[38;5;28mself\u001b[39m, \u001b[38;5;28minput\u001b[39m: Tensor) \u001b[38;5;241m-\u001b[39m\u001b[38;5;241m>\u001b[39m Tensor:\n\u001b[1;32m--> 103\u001b[0m     \u001b[38;5;28;01mreturn\u001b[39;00m \u001b[43mF\u001b[49m\u001b[38;5;241;43m.\u001b[39;49m\u001b[43mrelu\u001b[49m\u001b[43m(\u001b[49m\u001b[38;5;28;43minput\u001b[39;49m\u001b[43m,\u001b[49m\u001b[43m \u001b[49m\u001b[43minplace\u001b[49m\u001b[38;5;241;43m=\u001b[39;49m\u001b[38;5;28;43mself\u001b[39;49m\u001b[38;5;241;43m.\u001b[39;49m\u001b[43minplace\u001b[49m\u001b[43m)\u001b[49m\n",
      "File \u001b[1;32m~\\AppData\\Local\\Programs\\Python\\Python39\\lib\\site-packages\\torch\\nn\\functional.py:1455\u001b[0m, in \u001b[0;36mrelu\u001b[1;34m(input, inplace)\u001b[0m\n\u001b[0;32m   1453\u001b[0m     \u001b[38;5;28;01mreturn\u001b[39;00m handle_torch_function(relu, (\u001b[38;5;28minput\u001b[39m,), \u001b[38;5;28minput\u001b[39m, inplace\u001b[38;5;241m=\u001b[39minplace)\n\u001b[0;32m   1454\u001b[0m \u001b[38;5;28;01mif\u001b[39;00m inplace:\n\u001b[1;32m-> 1455\u001b[0m     result \u001b[38;5;241m=\u001b[39m \u001b[43mtorch\u001b[49m\u001b[38;5;241;43m.\u001b[39;49m\u001b[43mrelu_\u001b[49m\u001b[43m(\u001b[49m\u001b[38;5;28;43minput\u001b[39;49m\u001b[43m)\u001b[49m\n\u001b[0;32m   1456\u001b[0m \u001b[38;5;28;01melse\u001b[39;00m:\n\u001b[0;32m   1457\u001b[0m     result \u001b[38;5;241m=\u001b[39m torch\u001b[38;5;241m.\u001b[39mrelu(\u001b[38;5;28minput\u001b[39m)\n",
      "\u001b[1;31mRuntimeError\u001b[0m: Output 0 of BackwardHookFunctionBackward is a view and is being modified inplace. This view was created inside a custom Function (or because an input was returned as-is) and the autograd logic to handle view+inplace would override the custom backward associated with the custom Function, leading to incorrect gradients. This behavior is forbidden. You can fix this by cloning the output of the custom Function."
     ]
    }
   ],
   "source": [
    "# Network Parameters\n",
    "batch_i = 0\n",
    "BATCH_SIZE = 8\n",
    "lr = 0.5\n",
    "\n",
    "net = UNet()\n",
    "optimizer = torch.optim.SGD(net.parameters(), lr=lr, momentum=0.9)\n",
    "loss_fn = torch.nn.MSELoss()\n",
    "loss_fun = torch.nn.CrossEntropyLoss()\n",
    "\n",
    "# Debugging tools\n",
    "writer = SummaryWriter()\n",
    "forwards = {}\n",
    "backwards = {}\n",
    "def forward_hook_fn(m, i, o):\n",
    "    forwards[m] = o \n",
    "def backward_hook_fn(m, i, o):\n",
    "    backwards[m] = o\n",
    "    \n",
    "for name_, layer_ in net._modules.items():\n",
    "    for name, layer in layer_._modules.items():\n",
    "        layer.register_forward_hook(forward_hook_fn)      \n",
    "        layer.register_full_backward_hook(backward_hook_fn)\n",
    "    \n",
    "train_loss = []\n",
    "\n",
    "for epoch in range(10):\n",
    "    print(f\"Starting epoch {epoch}\\n\",\"=\"*30)\n",
    "    batch_i = 0\n",
    "    it = 0\n",
    "    \n",
    "    # iterate until out of mazes/solutions; then go to the next epoch. //b*b helps us ensure we \n",
    "    # operate within multiples of the batch size\n",
    "    epoch_start = time()\n",
    "    while batch_i < len(maze_data[:8]) // BATCH_SIZE * BATCH_SIZE:\n",
    "        it_start = time()\n",
    "        it += 1            \n",
    "        \n",
    "        # load mazes and solutions\n",
    "        mazes, solutions = load_batch(BATCH_SIZE)\n",
    "        optimizer.zero_grad()\n",
    "\n",
    "        # compute phi from the encoder\n",
    "        phi = net(torch.Tensor(mazes))\n",
    "        batch_shape = get_maze_shape(maze, n = mazes.shape[0], channels=True)\n",
    "\n",
    "        # initialize the openset, closed set, guidance map, parents\n",
    "        o = torch.zeros(batch_shape, dtype=torch.float32, requires_grad=True)\n",
    "        c = torch.zeros(batch_shape, dtype=torch.float32, requires_grad=True)        \n",
    "        g = torch.zeros(batch_shape, dtype=torch.float32, requires_grad=True)\n",
    "        \n",
    "        o.retain_grad()\n",
    "        c.retain_grad()\n",
    "        g.retain_grad()\n",
    "\n",
    "        # initialize h map\n",
    "        h = get_h_map(maze)\n",
    "        h = torch.stack([h for _ in range(batch_shape[0])])\n",
    "        h = h.reshape(-1,1,maze.shape[0], maze.shape[0])\n",
    "        h.requires_grad = True\n",
    "        h.retain_grad()\n",
    "\n",
    "        parents = torch.zeros(batch_shape)\n",
    "\n",
    "        # initialize goal\n",
    "#         for openset in o:\n",
    "#             openset[0,1,1] = 1\n",
    "        for i in range(len(o)):\n",
    "            o.data[i,0,1,1] = 1\n",
    "\n",
    "        # 1000 is max number before we cancel incase we hit a weird loop (max should be 23x23)\n",
    "        for i in range(1000):\n",
    "            # Perform node selection\n",
    "            v_star = node_selection(o,g,h)\n",
    "\n",
    "            # Get verification flags (computing n)\n",
    "            n = get_verification_flag(v_star, maze)\n",
    "\n",
    "            # Update open-set / closed-set\n",
    "            v_star_I = get_v_star_I(v_star, square=True, channels=True)\n",
    "            v_star_I.requires_grad = True\n",
    "            v_star_I.retain_grad()\n",
    "            \n",
    "            o = o - n * v_star_I.reshape(batch_shape).float()\n",
    "            c = c + n * v_star_I.reshape(batch_shape).float()\n",
    "            c.retain_grad()\n",
    "\n",
    "            # Expand the node neighbourhood, update open-set\n",
    "            v_nbr, v_bar_nbr = node_expansion(v_star, mazes, o, c)\n",
    "            o = o + v_nbr\n",
    "\n",
    "            # Update g\n",
    "            g = update_guidance_costs(v_star, v_nbr, v_bar_nbr, phi, g)\n",
    "\n",
    "            # Update parents\n",
    "            for j in range(len(v_nbr)):\n",
    "                for ix in np.nonzero(v_nbr[j][0]):\n",
    "                    parents[j][0][ix[0]][ix[1]] = v_star[j]\n",
    "\n",
    "            # If all our verification flags return as false; we're done. Exit.\n",
    "            if torch.all(torch.Tensor([x.all() for x in n.squeeze()]) == False) == True:\n",
    "                break\n",
    "                \n",
    "        # calculate loss; closed sets are the output, solutions are the target\n",
    "        loss = loss_fn(c, solutions)\n",
    "\n",
    "        # back propagate\n",
    "        loss.backward()\n",
    "\n",
    "        # take an optimization step\n",
    "        optimizer.step()\n",
    "\n",
    "        # capture debug info\n",
    "        if it % 1 == 0:\n",
    "            for name, weight in net.named_parameters():\n",
    "                print(name)\n",
    "                writer.add_histogram(name, weight, it)\n",
    "                writer.add_histogram(f\"{name}-gradient\", weight.grad, it)  \n",
    "                    \n",
    "        # print\n",
    "        if it % 1 == 0:\n",
    "            print(f\"{it:3d}/{len(maze_data) // BATCH_SIZE} - duration: {time() - it_start:4.2f} - loss: {loss.item()}\")\n",
    "        train_loss.append(loss.detach().cpu().numpy())"
   ]
  },
  {
   "cell_type": "code",
   "execution_count": 54,
   "id": "49928b72",
   "metadata": {},
   "outputs": [
    {
     "data": {
      "text/plain": [
       "torch.Size([8, 1, 32, 32])"
      ]
     },
     "execution_count": 54,
     "metadata": {},
     "output_type": "execute_result"
    }
   ],
   "source": [
    "c.grad.shape"
   ]
  },
  {
   "cell_type": "code",
   "execution_count": 55,
   "id": "d9d2400c",
   "metadata": {},
   "outputs": [
    {
     "data": {
      "text/plain": [
       "torch.Size([64, 1, 3, 3])"
      ]
     },
     "execution_count": 55,
     "metadata": {},
     "output_type": "execute_result"
    }
   ],
   "source": [
    "net.model.encoder.features[0].weight.shape"
   ]
  },
  {
   "cell_type": "code",
   "execution_count": 56,
   "id": "17dadcb4",
   "metadata": {},
   "outputs": [
    {
     "ename": "AttributeError",
     "evalue": "'NoneType' object has no attribute 'shape'",
     "output_type": "error",
     "traceback": [
      "\u001b[1;31m---------------------------------------------------------------------------\u001b[0m",
      "\u001b[1;31mAttributeError\u001b[0m                            Traceback (most recent call last)",
      "Input \u001b[1;32mIn [56]\u001b[0m, in \u001b[0;36m<module>\u001b[1;34m\u001b[0m\n\u001b[1;32m----> 1\u001b[0m \u001b[43mnet\u001b[49m\u001b[38;5;241;43m.\u001b[39;49m\u001b[43mmodel\u001b[49m\u001b[38;5;241;43m.\u001b[39;49m\u001b[43mencoder\u001b[49m\u001b[38;5;241;43m.\u001b[39;49m\u001b[43mfeatures\u001b[49m\u001b[43m[\u001b[49m\u001b[38;5;241;43m0\u001b[39;49m\u001b[43m]\u001b[49m\u001b[38;5;241;43m.\u001b[39;49m\u001b[43mweight\u001b[49m\u001b[38;5;241;43m.\u001b[39;49m\u001b[43mgrad\u001b[49m\u001b[38;5;241;43m.\u001b[39;49m\u001b[43mshape\u001b[49m\n",
      "\u001b[1;31mAttributeError\u001b[0m: 'NoneType' object has no attribute 'shape'"
     ]
    }
   ],
   "source": [
    "net.model.encoder.features[0].weight.grad.shape"
   ]
  },
  {
   "cell_type": "code",
   "execution_count": 57,
   "id": "afae6a71",
   "metadata": {
    "scrolled": false
   },
   "outputs": [
    {
     "data": {
      "text/plain": [
       "'gradients.pdf'"
      ]
     },
     "execution_count": 57,
     "metadata": {},
     "output_type": "execute_result"
    }
   ],
   "source": [
    "torchviz.make_dot(phi, params=dict(net.named_parameters()), show_attrs=True).render(\"./gradients\")"
   ]
  }
 ],
 "metadata": {
  "kernelspec": {
   "display_name": "Python 3 (ipykernel)",
   "language": "python",
   "name": "python3"
  },
  "language_info": {
   "codemirror_mode": {
    "name": "ipython",
    "version": 3
   },
   "file_extension": ".py",
   "mimetype": "text/x-python",
   "name": "python",
   "nbconvert_exporter": "python",
   "pygments_lexer": "ipython3",
   "version": "3.9.10"
  }
 },
 "nbformat": 4,
 "nbformat_minor": 5
}
