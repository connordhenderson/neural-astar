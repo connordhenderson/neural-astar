{
 "cells": [
  {
   "cell_type": "code",
   "execution_count": 1,
   "id": "ceaa9f32",
   "metadata": {},
   "outputs": [],
   "source": [
    "import numpy as np"
   ]
  },
  {
   "cell_type": "code",
   "execution_count": 3,
   "id": "43f788ad",
   "metadata": {},
   "outputs": [
    {
     "ename": "IndexError",
     "evalue": "index 10 is out of bounds for axis 0 with size 10",
     "output_type": "error",
     "traceback": [
      "\u001b[1;31m---------------------------------------------------------------------------\u001b[0m",
      "\u001b[1;31mIndexError\u001b[0m                                Traceback (most recent call last)",
      "Input \u001b[1;32mIn [3]\u001b[0m, in \u001b[0;36m<module>\u001b[1;34m\u001b[0m\n\u001b[0;32m     35\u001b[0m             dfs(neighbor)\n\u001b[0;32m     37\u001b[0m \u001b[38;5;66;03m# Start the depth-first search algorithm from the starting cell\u001b[39;00m\n\u001b[1;32m---> 38\u001b[0m \u001b[43mdfs\u001b[49m\u001b[43m(\u001b[49m\u001b[43mstart\u001b[49m\u001b[43m)\u001b[49m\n\u001b[0;32m     40\u001b[0m \u001b[38;5;66;03m# Set the starting and ending points\u001b[39;00m\n\u001b[0;32m     41\u001b[0m maze[\u001b[38;5;241m1\u001b[39m, \u001b[38;5;241m0\u001b[39m] \u001b[38;5;241m=\u001b[39m \u001b[38;5;241m0\u001b[39m\n",
      "Input \u001b[1;32mIn [3]\u001b[0m, in \u001b[0;36mdfs\u001b[1;34m(cell)\u001b[0m\n\u001b[0;32m     33\u001b[0m visited\u001b[38;5;241m.\u001b[39madd(neighbor)\n\u001b[0;32m     34\u001b[0m maze[cell[\u001b[38;5;241m0\u001b[39m] \u001b[38;5;241m+\u001b[39m neighbor[\u001b[38;5;241m0\u001b[39m] \u001b[38;5;241m+\u001b[39m \u001b[38;5;241m1\u001b[39m, cell[\u001b[38;5;241m1\u001b[39m] \u001b[38;5;241m+\u001b[39m neighbor[\u001b[38;5;241m1\u001b[39m] \u001b[38;5;241m+\u001b[39m \u001b[38;5;241m1\u001b[39m] \u001b[38;5;241m=\u001b[39m \u001b[38;5;241m0\u001b[39m\n\u001b[1;32m---> 35\u001b[0m \u001b[43mdfs\u001b[49m\u001b[43m(\u001b[49m\u001b[43mneighbor\u001b[49m\u001b[43m)\u001b[49m\n",
      "Input \u001b[1;32mIn [3]\u001b[0m, in \u001b[0;36mdfs\u001b[1;34m(cell)\u001b[0m\n\u001b[0;32m     33\u001b[0m visited\u001b[38;5;241m.\u001b[39madd(neighbor)\n\u001b[0;32m     34\u001b[0m maze[cell[\u001b[38;5;241m0\u001b[39m] \u001b[38;5;241m+\u001b[39m neighbor[\u001b[38;5;241m0\u001b[39m] \u001b[38;5;241m+\u001b[39m \u001b[38;5;241m1\u001b[39m, cell[\u001b[38;5;241m1\u001b[39m] \u001b[38;5;241m+\u001b[39m neighbor[\u001b[38;5;241m1\u001b[39m] \u001b[38;5;241m+\u001b[39m \u001b[38;5;241m1\u001b[39m] \u001b[38;5;241m=\u001b[39m \u001b[38;5;241m0\u001b[39m\n\u001b[1;32m---> 35\u001b[0m \u001b[43mdfs\u001b[49m\u001b[43m(\u001b[49m\u001b[43mneighbor\u001b[49m\u001b[43m)\u001b[49m\n",
      "    \u001b[1;31m[... skipping similar frames: dfs at line 35 (7 times)]\u001b[0m\n",
      "Input \u001b[1;32mIn [3]\u001b[0m, in \u001b[0;36mdfs\u001b[1;34m(cell)\u001b[0m\n\u001b[0;32m     33\u001b[0m visited\u001b[38;5;241m.\u001b[39madd(neighbor)\n\u001b[0;32m     34\u001b[0m maze[cell[\u001b[38;5;241m0\u001b[39m] \u001b[38;5;241m+\u001b[39m neighbor[\u001b[38;5;241m0\u001b[39m] \u001b[38;5;241m+\u001b[39m \u001b[38;5;241m1\u001b[39m, cell[\u001b[38;5;241m1\u001b[39m] \u001b[38;5;241m+\u001b[39m neighbor[\u001b[38;5;241m1\u001b[39m] \u001b[38;5;241m+\u001b[39m \u001b[38;5;241m1\u001b[39m] \u001b[38;5;241m=\u001b[39m \u001b[38;5;241m0\u001b[39m\n\u001b[1;32m---> 35\u001b[0m \u001b[43mdfs\u001b[49m\u001b[43m(\u001b[49m\u001b[43mneighbor\u001b[49m\u001b[43m)\u001b[49m\n",
      "Input \u001b[1;32mIn [3]\u001b[0m, in \u001b[0;36mdfs\u001b[1;34m(cell)\u001b[0m\n\u001b[0;32m     32\u001b[0m \u001b[38;5;28;01mif\u001b[39;00m neighbor \u001b[38;5;129;01mnot\u001b[39;00m \u001b[38;5;129;01min\u001b[39;00m visited:\n\u001b[0;32m     33\u001b[0m     visited\u001b[38;5;241m.\u001b[39madd(neighbor)\n\u001b[1;32m---> 34\u001b[0m     maze[cell[\u001b[38;5;241m0\u001b[39m] \u001b[38;5;241m+\u001b[39m neighbor[\u001b[38;5;241m0\u001b[39m] \u001b[38;5;241m+\u001b[39m \u001b[38;5;241m1\u001b[39m, cell[\u001b[38;5;241m1\u001b[39m] \u001b[38;5;241m+\u001b[39m neighbor[\u001b[38;5;241m1\u001b[39m] \u001b[38;5;241m+\u001b[39m \u001b[38;5;241m1\u001b[39m] \u001b[38;5;241m=\u001b[39m \u001b[38;5;241m0\u001b[39m\n\u001b[0;32m     35\u001b[0m     dfs(neighbor)\n",
      "\u001b[1;31mIndexError\u001b[0m: index 10 is out of bounds for axis 0 with size 10"
     ]
    }
   ],
   "source": [
    "import numpy as np\n",
    "\n",
    "# Define the dimensions of the maze\n",
    "rows = 10\n",
    "cols = 10\n",
    "\n",
    "# Create a NumPy array filled with walls\n",
    "maze = np.ones((rows, cols), dtype=int)\n",
    "\n",
    "# Define the starting cell and visit it\n",
    "start = (0, 0)\n",
    "visited = set()\n",
    "visited.add(start)\n",
    "\n",
    "# Define the directions to move in\n",
    "directions = [(0, 1), (1, 0), (0, -1), (-1, 0)]\n",
    "\n",
    "# Define a helper function to get the neighbors of a cell\n",
    "def get_neighbors(cell):\n",
    "    neighbors = []\n",
    "    for d in directions:\n",
    "        neighbor = (cell[0] + d[0], cell[1] + d[1])\n",
    "        if 0 <= neighbor[0] < rows and 0 <= neighbor[1] < cols:\n",
    "            neighbors.append(neighbor)\n",
    "    return neighbors\n",
    "\n",
    "# Define the depth-first search algorithm\n",
    "def dfs(cell):\n",
    "    neighbors = get_neighbors(cell)\n",
    "    np.random.shuffle(neighbors)\n",
    "    for neighbor in neighbors:\n",
    "        if neighbor not in visited:\n",
    "            visited.add(neighbor)\n",
    "            maze[cell[0] + neighbor[0] + 1, cell[1] + neighbor[1] + 1] = 0\n",
    "            dfs(neighbor)\n",
    "\n",
    "# Start the depth-first search algorithm from the starting cell\n",
    "dfs(start)\n",
    "\n",
    "# Set the starting and ending points\n",
    "maze[1, 0] = 0\n",
    "maze[rows-2, cols-1] = 0\n",
    "\n",
    "# Print the maze\n",
    "print(maze)\n"
   ]
  },
  {
   "cell_type": "code",
   "execution_count": null,
   "id": "580fa4be",
   "metadata": {},
   "outputs": [],
   "source": []
  }
 ],
 "metadata": {
  "kernelspec": {
   "display_name": "Python 3 (ipykernel)",
   "language": "python",
   "name": "python3"
  },
  "language_info": {
   "codemirror_mode": {
    "name": "ipython",
    "version": 3
   },
   "file_extension": ".py",
   "mimetype": "text/x-python",
   "name": "python",
   "nbconvert_exporter": "python",
   "pygments_lexer": "ipython3",
   "version": "3.9.10"
  }
 },
 "nbformat": 4,
 "nbformat_minor": 5
}
