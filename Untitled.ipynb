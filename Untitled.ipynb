{
 "cells": [
  {
   "cell_type": "code",
   "execution_count": 185,
   "id": "81ffc41a",
   "metadata": {},
   "outputs": [],
   "source": [
    "import matplotlib.pyplot as plt\n",
    "import numpy as np\n",
    "from IPython.display import display, Markdown\n",
    "%matplotlib inline"
   ]
  },
  {
   "cell_type": "markdown",
   "id": "02237a60",
   "metadata": {},
   "source": [
    "# Maze Generation\n",
    "\n",
    "Creates a randomly generated maze "
   ]
  },
  {
   "cell_type": "code",
   "execution_count": 204,
   "id": "2a0d3073",
   "metadata": {},
   "outputs": [
    {
     "data": {
      "text/plain": [
       "<matplotlib.image.AxesImage at 0x20f4e399b20>"
      ]
     },
     "metadata": {},
     "output_type": "display_data"
    },
    {
     "data": {
      "image/png": "[encoded data removed]",
      "text/plain": [
       "<Figure size 432x288 with 1 Axes>"
      ]
     },
     "metadata": {
      "needs_background": "light"
     },
     "output_type": "display_data"
    }
   ],
   "source": [
    "\n",
    "\"\"\"\n",
    "    ==============================================\n",
    "    GENERATE_MAZE\n",
    "        input:\n",
    "            n_cells (int) :     width of maze\n",
    "    ==============================================\n",
    "    Given a current cell as a parameter\n",
    "    Mark the current cell as visited\n",
    "    While the current cell has any unvisited neighbour cells\n",
    "        Choose one of the unvisited neighbours\n",
    "        Remove the wall between the current cell and the chosen cell\n",
    "        Invoke the routine recursively for the chosen cell\n",
    "\"\"\"\n",
    "def generate_maze(n_cells):\n",
    "    # Generate cells\n",
    "    cells = np.zeros((n_cells * 2 + 1, n_cells * 2 + 1))\n",
    "    cells[::2] = 1\n",
    "    cells.T[::2] = 1\n",
    "\n",
    "    # Create maze recursively\n",
    "    visited = np.zeros((n_cells,n_cells))\n",
    "    candidates = [[0,0]]\n",
    "    while candidates != []:\n",
    "        np.random.shuffle(candidates)\n",
    "        if candidates == []:\n",
    "            break\n",
    "        candidate = np.array(candidates.pop())\n",
    "        directions = [0,1,2,3]\n",
    "        np.random.shuffle(neighbours)\n",
    "\n",
    "        for direction in directions:\n",
    "            # Get the neighbour coordinate\n",
    "            direction = np.array(np.round([np.sin(direction * np.pi / 2), np.cos(direction * np.pi / 2)]), dtype=int)\n",
    "            neighbour = np.array([candidate[0] + direction[0], candidate[1] + direction[1]], dtype=int)\n",
    "            # Check if the neighbour is within bounds\n",
    "            if neighbour[0] >= n_cells or neighbour[0] < 0 \\\n",
    "                    or neighbour[1] >= n_cells or neighbour[1] < 0 \\\n",
    "                    or visited[neighbour[0]][neighbour[1]] == 1: continue\n",
    "\n",
    "            candidates += [candidate, neighbour]\n",
    "            visited[neighbour[0], neighbour[1]] = 1\n",
    "            candidate = np.asarray(candidate) * 2 + 1\n",
    "            candidate = [candidate[0] + direction[0], candidate[1] + direction[1]]\n",
    "            cells[candidate[0]][candidate[1]] = 0\n",
    "            break\n",
    "        cells[1][1] = 2\n",
    "        cells[-2][-2] = 3\n",
    "    return cells\n",
    "        \n",
    "# Display generated maze\n",
    "maze = generate_maze(5)\n",
    "display(plt.imshow(maze))"
   ]
  },
  {
   "cell_type": "markdown",
   "id": "8ffdace9",
   "metadata": {},
   "source": [
    "# A* Algorithm\n",
    "    reconstruct(source, current):\n",
    "        total_path = {current}\n",
    "        while current in source.keys:\n",
    "            current = source[current]\n",
    "            total_path.prepend(current)\n",
    "        return total_path\n",
    "        \n",
    "    a*(start, goal, h)\n",
    "    openset = {start}\n",
    "    source = {}\n",
    "    \n",
    "    gscore = {default = inf}\n",
    "    gscore[start] = 0\n",
    "    \n",
    "    fscore = {default = inf}\n",
    "    fscore[start] = h[start]\n",
    "    \n",
    "    while openset != {}\n",
    "        current = lowest fscore in openset\n",
    "        if current = goal:\n",
    "            return reconstruct_path(source, current)\n",
    "        openset.remove(current)\n",
    "        for each neighbour in current:\n",
    "            tentative_gscore = gscore[current] + distance(current, neighbour)\n",
    "            \n",
    "            if tentative_gscore < gscore[neighbour]\n",
    "                source[neighbour] = current\n",
    "                gscore[neighbour] = tentative_gscore\n",
    "                fscore[neighbour] = tentative_gscore + h(neighbour)\n",
    "                \n",
    "                if neighbor not in openset:\n",
    "                    openset.add(neighbour)\n",
    "    return None\n",
    "            \n",
    "        "
   ]
  },
  {
   "cell_type": "code",
   "execution_count": 217,
   "id": "d1e9b4c2",
   "metadata": {},
   "outputs": [
    {
     "ename": "TypeError",
     "evalue": "unsupported operand type(s) for -: 'list' and 'list'",
     "output_type": "error",
     "traceback": [
      "\u001b[1;31m---------------------------------------------------------------------------\u001b[0m",
      "\u001b[1;31mTypeError\u001b[0m                                 Traceback (most recent call last)",
      "Input \u001b[1;32mIn [217]\u001b[0m, in \u001b[0;36m<module>\u001b[1;34m\u001b[0m\n\u001b[0;32m      1\u001b[0m a\u001b[38;5;241m=\u001b[39m[\u001b[38;5;241m1\u001b[39m,\u001b[38;5;241m1\u001b[39m]\n\u001b[0;32m      2\u001b[0m b\u001b[38;5;241m=\u001b[39m[\u001b[38;5;241m2\u001b[39m,\u001b[38;5;241m2\u001b[39m]\n\u001b[1;32m----> 3\u001b[0m np\u001b[38;5;241m.\u001b[39mlinalg\u001b[38;5;241m.\u001b[39mnorm(\u001b[43ma\u001b[49m\u001b[38;5;241;43m-\u001b[39;49m\u001b[43mb\u001b[49m)\n",
      "\u001b[1;31mTypeError\u001b[0m: unsupported operand type(s) for -: 'list' and 'list'"
     ]
    }
   ],
   "source": [
    "a=[1,1]\n",
    "b=[2,2]\n",
    "np.linalg.norm(a-b)"
   ]
  },
  {
   "cell_type": "code",
   "execution_count": 218,
   "id": "caaeb7f6",
   "metadata": {},
   "outputs": [
    {
     "ename": "IndentationError",
     "evalue": "expected an indented block (3156402542.py, line 2)",
     "output_type": "error",
     "traceback": [
      "\u001b[1;36m  Input \u001b[1;32mIn [218]\u001b[1;36m\u001b[0m\n\u001b[1;33m    openset = {start}\u001b[0m\n\u001b[1;37m    ^\u001b[0m\n\u001b[1;31mIndentationError\u001b[0m\u001b[1;31m:\u001b[0m expected an indented block\n"
     ]
    }
   ],
   "source": [
    "def a_star(start, goal, h = lambda x,y: np.linalg.norm(np.array(x) - np.array(y))):\n",
    "    openset = {start}\n",
    "    source = {}\n",
    "\n",
    "    gscore = {default = inf}\n",
    "    gscore[start] = 0\n",
    "\n",
    "    fscore = {default = inf}\n",
    "    fscore[start] = h[start]\n",
    "\n",
    "    while openset != {}\n",
    "        current = lowest fscore in openset\n",
    "        if current = goal:\n",
    "            return reconstruct_path(source, current)\n",
    "        openset.remove(current)\n",
    "        for each neighbour in current:\n",
    "            tentative_gscore = gscore[current] + distance(current, neighbour)\n",
    "\n",
    "            if tentative_gscore < gscore[neighbour]\n",
    "                source[neighbour] = current\n",
    "                gscore[neighbour] = tentative_gscore\n",
    "                fscore[neighbour] = tentative_gscore + h(neighbour)\n",
    "\n",
    "                if neighbor not in openset:\n",
    "                    openset.add(neighbour)\n",
    "    return None"
   ]
  },
  {
   "cell_type": "code",
   "execution_count": 211,
   "id": "b8a446dd",
   "metadata": {},
   "outputs": [
    {
     "data": {
      "text/plain": [
       "(2, 1)"
      ]
     },
     "execution_count": 211,
     "metadata": {},
     "output_type": "execute_result"
    }
   ],
   "source": [
    "a = {0:2}\n",
    "a.get(0,1), a.get(1,1)"
   ]
  },
  {
   "cell_type": "code",
   "execution_count": null,
   "id": "8e7a6c22",
   "metadata": {},
   "outputs": [],
   "source": []
  },
  {
   "cell_type": "code",
   "execution_count": null,
   "id": "c800b72d",
   "metadata": {},
   "outputs": [],
   "source": [
    "def return_path(cells):"
   ]
  }
 ],
 "metadata": {
  "kernelspec": {
   "display_name": "Python 3 (ipykernel)",
   "language": "python",
   "name": "python3"
  },
  "language_info": {
   "codemirror_mode": {
    "name": "ipython",
    "version": 3
   },
   "file_extension": ".py",
   "mimetype": "text/x-python",
   "name": "python",
   "nbconvert_exporter": "python",
   "pygments_lexer": "ipython3",
   "version": "3.9.10"
  }
 },
 "nbformat": 4,
 "nbformat_minor": 5
}
