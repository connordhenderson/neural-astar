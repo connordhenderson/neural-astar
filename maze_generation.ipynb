{
 "cells": [
  {
   "cell_type": "code",
   "execution_count": 1,
   "id": "81ffc41a",
   "metadata": {},
   "outputs": [],
   "source": [
    "import matplotlib.pyplot as plt\n",
    "import numpy as np\n",
    "from IPython.display import display, Markdown\n",
    "%matplotlib inline"
   ]
  },
  {
   "cell_type": "markdown",
   "id": "02237a60",
   "metadata": {},
   "source": [
    "# Maze Generation\n",
    "\n",
    "Creates a randomly generated maze "
   ]
  },
  {
   "cell_type": "code",
   "execution_count": 2,
   "id": "2a0d3073",
   "metadata": {},
   "outputs": [
    {
     "data": {
      "text/plain": [
       "<matplotlib.image.AxesImage at 0x21f7bb2bfd0>"
      ]
     },
     "metadata": {},
     "output_type": "display_data"
    },
    {
     "data": {
      "image/png": "[encoded data removed]",
      "text/plain": [
       "<Figure size 432x288 with 1 Axes>"
      ]
     },
     "metadata": {
      "needs_background": "light"
     },
     "output_type": "display_data"
    }
   ],
   "source": [
    "\n",
    "\"\"\"\n",
    "    ==============================================\n",
    "    GENERATE_MAZE\n",
    "        input:\n",
    "            n_cells (int) :     width of maze\n",
    "    ==============================================\n",
    "    Given a current cell as a parameter\n",
    "    Mark the current cell as visited\n",
    "    While the current cell has any unvisited neighbour cells\n",
    "        Choose one of the unvisited neighbours\n",
    "        Remove the wall between the current cell and the chosen cell\n",
    "        Invoke the routine recursively for the chosen cell\n",
    "\"\"\"\n",
    "def generate_maze(n_cells):\n",
    "    # Generate cells\n",
    "    cells = np.zeros((n_cells * 2 + 1, n_cells * 2 + 1))\n",
    "    cells[::2] = 1\n",
    "    cells.T[::2] = 1\n",
    "\n",
    "    # Create maze recursively\n",
    "    visited = np.zeros((n_cells,n_cells))\n",
    "    candidates = [[0,0]]\n",
    "    while candidates != []:\n",
    "        np.random.shuffle(candidates)\n",
    "        if candidates == []:\n",
    "            break\n",
    "        candidate = np.array(candidates.pop())\n",
    "        directions = [0,1,2,3]\n",
    "        np.random.shuffle(directions)\n",
    "\n",
    "        for direction in directions:\n",
    "            # Get the neighbour coordinate\n",
    "            direction = np.array(np.round([np.sin(direction * np.pi / 2), np.cos(direction * np.pi / 2)]), dtype=int)\n",
    "            neighbour = np.array([candidate[0] + direction[0], candidate[1] + direction[1]], dtype=int)\n",
    "            # Check if the neighbour is within bounds\n",
    "            if neighbour[0] >= n_cells or neighbour[0] < 0 \\\n",
    "                    or neighbour[1] >= n_cells or neighbour[1] < 0 \\\n",
    "                    or visited[neighbour[0]][neighbour[1]] == 1: continue\n",
    "\n",
    "            candidates += [candidate, neighbour]\n",
    "            visited[neighbour[0], neighbour[1]] = 1\n",
    "            candidate = np.asarray(candidate) * 2 + 1\n",
    "            candidate = [candidate[0] + direction[0], candidate[1] + direction[1]]\n",
    "            cells[candidate[0]][candidate[1]] = 0\n",
    "            break\n",
    "    return cells[1:-1][:,1:-1]\n",
    "        \n",
    "# Display generated maze\n",
    "maze = generate_maze(5)\n",
    "display(plt.imshow(maze))"
   ]
  },
  {
   "cell_type": "markdown",
   "id": "768cdea9",
   "metadata": {},
   "source": [
    "# Wide Maze"
   ]
  },
  {
   "cell_type": "code",
   "execution_count": 3,
   "id": "28f365b1",
   "metadata": {},
   "outputs": [
    {
     "data": {
      "text/plain": [
       "(17, 17)"
      ]
     },
     "metadata": {},
     "output_type": "display_data"
    },
    {
     "data": {
      "text/plain": [
       "<matplotlib.image.AxesImage at 0x21f7bc3e4f0>"
      ]
     },
     "metadata": {},
     "output_type": "display_data"
    },
    {
     "data": {
      "image/png": "[encoded data removed]",
      "text/plain": [
       "<Figure size 432x288 with 1 Axes>"
      ]
     },
     "metadata": {
      "needs_background": "light"
     },
     "output_type": "display_data"
    }
   ],
   "source": [
    "\n",
    "\"\"\"\n",
    "    ==============================================\n",
    "    GENERATE_MAZE\n",
    "        input:\n",
    "            n_cells (int) :     width of maze\n",
    "    ==============================================\n",
    "    Given a current cell as a parameter\n",
    "    Mark the current cell as visited\n",
    "    While the current cell has any unvisited neighbour cells\n",
    "        Choose one of the unvisited neighbours\n",
    "        Remove the wall between the current cell and the chosen cell\n",
    "        Invoke the routine recursively for the chosen cell\n",
    "\"\"\"\n",
    "def generate_wide_maze(n_cells, cell_width=1, wall_width=1):\n",
    "    maze = generate_maze(n_cells)\n",
    "    \n",
    "    # Cell widths\n",
    "    nm = []\n",
    "    for j in range(len(maze[0])):\n",
    "        m = []\n",
    "        for i in range(len(maze[0])):\n",
    "            if i % 2 == 0:\n",
    "                for x in range(cell_width-1):\n",
    "                    m.append(maze[j][i])\n",
    "            m.append(maze[j][i])\n",
    "        nm.append(m)\n",
    "    nnm = []\n",
    "    nm = np.asarray(nm).T.tolist()\n",
    "    for i in range(len(nm)):\n",
    "        m = []\n",
    "        for j in range(len(nm[0])):\n",
    "            if j % 2 == 0:\n",
    "                for x in range(cell_width-1):\n",
    "                    m.append(nm[i][j])\n",
    "            m.append(nm[i][j])\n",
    "        nnm.append(m)\n",
    "    return np.asarray(nnm, dtype=int)\n",
    "\n",
    "# Display generated maze\n",
    "maze = generate_wide_maze(3, cell_width=5, wall_width=2)\n",
    "display(maze.shape, plt.imshow(maze))"
   ]
  },
  {
   "cell_type": "markdown",
   "id": "8ffdace9",
   "metadata": {},
   "source": [
    "# A* Algorithm\n",
    "    reconstruct(source, current):\n",
    "        total_path = {current}\n",
    "        while current in source.keys:\n",
    "            current = source[current]\n",
    "            total_path.prepend(current)\n",
    "        return total_path\n",
    "        \n",
    "    a*(start, goal, h)\n",
    "    openset = {start}\n",
    "    source = {}\n",
    "    \n",
    "    gscore = {default = inf}\n",
    "    gscore[start] = 0\n",
    "    \n",
    "    fscore = {default = inf}\n",
    "    fscore[start] = h[start]\n",
    "    \n",
    "    while openset != {}\n",
    "        current = lowest fscore in openset\n",
    "        if current = goal:\n",
    "            return reconstruct_path(source, current)\n",
    "        openset.remove(current)\n",
    "        for each neighbour in current:\n",
    "            tentative_gscore = gscore[current] + distance(current, neighbour)\n",
    "            \n",
    "            if tentative_gscore < gscore[neighbour]\n",
    "                source[neighbour] = current\n",
    "                gscore[neighbour] = tentative_gscore\n",
    "                fscore[neighbour] = tentative_gscore + h(neighbour)\n",
    "                \n",
    "                if neighbor not in openset:\n",
    "                    openset.add(neighbour)\n",
    "    return None\n",
    "            \n",
    "        "
   ]
  },
  {
   "cell_type": "code",
   "execution_count": 13,
   "id": "892ee9c3",
   "metadata": {},
   "outputs": [],
   "source": [
    "normal_distance = lambda x,y : np.linalg.norm(np.array(x) - np.array(y))\n",
    "\n",
    "\n",
    "def reconstruct_path(source, current):\n",
    "    total_path = [current]\n",
    "    while str(current) in source.keys():\n",
    "        current = source[str(current)]\n",
    "        total_path = [current] + total_path\n",
    "    return total_path\n",
    "\n",
    "\"\"\"\n",
    "A* Pathfinding Algorithm\n",
    "    input:\n",
    "        start [int,int]: x,y coordinates for the starting position\n",
    "        end  [int,int]: x,y coordinates for the end position\n",
    "        h     [[int,int], [int,int]]: function used to calculate the distance between two points\n",
    "\"\"\"\n",
    "\n",
    "def a_star(cells, start=[1,1], end=[-2,-2], h = normal_distance, diagonals = False):\n",
    "    MAZE_SIZE = len(cells)\n",
    "    \n",
    "    openset = {str(start)}\n",
    "    closedset = []\n",
    "    source = {}\n",
    "\n",
    "    gscore = {}\n",
    "    fscore = {}\n",
    "\n",
    "    gscore[str(start)] = 0\n",
    "    fscore[str(start)] = h(start, end)\n",
    "\n",
    "    while openset != {}:\n",
    "        # Get the lowest f-score in the open-set\n",
    "        current = min(openset, key=lambda x: fscore.get(str(x), np.inf))\n",
    "        current = eval(current)\n",
    "        openset.remove(str(current))\n",
    "        closedset.append(current)\n",
    "        \n",
    "        # If we're at the goal, reconstruct our path and return it\n",
    "        if current == end:\n",
    "            #return None\n",
    "            return reconstruct_path(source, current)\n",
    "        \n",
    "\n",
    "        \n",
    "        # Check each neighbouring cell and update the f/g scores\n",
    "        if diagonals == True:\n",
    "            neighbours = [0,0.5,1,1.5,2,2.5,3]\n",
    "        else:\n",
    "            neighbours = [0,1,2,3]\n",
    "        \n",
    "        neighbours = [np.array(np.round([np.sin(direction * np.pi / 2), np.cos(direction * np.pi / 2)]), dtype=int) \n",
    "                      + current for direction in neighbours]\n",
    "        \n",
    "        #np.random.shuffle(neighbours)        \n",
    "        \n",
    "        for neighbour in neighbours:\n",
    "            # Ensure the neighbour is within bounds and is not a wall\n",
    "            if neighbour[0] >= MAZE_SIZE or neighbour[0] < 0 \\\n",
    "                    or neighbour[1] >= MAZE_SIZE or neighbour[1] < 0 \\\n",
    "                    or cells[neighbour[0]][neighbour[1]] != 0 \\\n",
    "                    or neighbour.tolist() in closedset: continue\n",
    "                \n",
    "            tentative_gscore = gscore.get(str(current), np.inf) + 1\n",
    "            \n",
    "            if tentative_gscore < gscore.get(str(neighbour), np.inf):\n",
    "                source[str(neighbour.tolist())] = current\n",
    "                gscore[str(neighbour.tolist())] = tentative_gscore\n",
    "                fscore[str(neighbour.tolist())] = tentative_gscore + h(neighbour, end)\n",
    "\n",
    "                if str(neighbour) not in openset:\n",
    "                    openset.add(str(neighbour.tolist()))\n",
    "    return None"
   ]
  },
  {
   "cell_type": "markdown",
   "id": "55d1c1a1",
   "metadata": {},
   "source": [
    "# Example usage"
   ]
  },
  {
   "cell_type": "code",
   "execution_count": 14,
   "id": "d1a669a6",
   "metadata": {},
   "outputs": [
    {
     "data": {
      "text/plain": [
       "<matplotlib.image.AxesImage at 0x21f7bd2ea90>"
      ]
     },
     "metadata": {},
     "output_type": "display_data"
    },
    {
     "data": {
      "image/png": "[encoded data removed]",
      "text/plain": [
       "<Figure size 432x288 with 1 Axes>"
      ]
     },
     "metadata": {
      "needs_background": "light"
     },
     "output_type": "display_data"
    }
   ],
   "source": [
    "maze = generate_wide_maze(5,3)\n",
    "start = [1,1]\n",
    "end = [len(maze) - 2, len(maze) - 2]\n",
    "\n",
    "path = a_star(np.asarray(maze, dtype=int), start=start, end=end)\n",
    "solution = maze.copy()*2\n",
    "\n",
    "for node in path:\n",
    "    solution[node[0]][node[1]] = 1\n",
    "    \n",
    "display(plt.imshow(solution))"
   ]
  },
  {
   "cell_type": "code",
   "execution_count": 15,
   "id": "6f4732a3",
   "metadata": {},
   "outputs": [
    {
     "data": {
      "text/plain": [
       "<matplotlib.image.AxesImage at 0x21f7bed1190>"
      ]
     },
     "metadata": {},
     "output_type": "display_data"
    },
    {
     "data": {
      "image/png": "[encoded data removed]",
      "text/plain": [
       "<Figure size 432x288 with 1 Axes>"
      ]
     },
     "metadata": {
      "needs_background": "light"
     },
     "output_type": "display_data"
    }
   ],
   "source": [
    "path = a_star(np.asarray(maze, dtype=int), start=start, end=end, diagonals=True)\n",
    "solution = maze.copy()*2\n",
    "\n",
    "for node in path:\n",
    "    solution[node[0]][node[1]] = 1\n",
    "    \n",
    "display(plt.imshow(solution))"
   ]
  },
  {
   "cell_type": "code",
   "execution_count": null,
   "id": "b294e1e5",
   "metadata": {},
   "outputs": [],
   "source": []
  }
 ],
 "metadata": {
  "kernelspec": {
   "display_name": "Python 3 (ipykernel)",
   "language": "python",
   "name": "python3"
  },
  "language_info": {
   "codemirror_mode": {
    "name": "ipython",
    "version": 3
   },
   "file_extension": ".py",
   "mimetype": "text/x-python",
   "name": "python",
   "nbconvert_exporter": "python",
   "pygments_lexer": "ipython3",
   "version": "3.9.4"
  }
 },
 "nbformat": 4,
 "nbformat_minor": 5
}
