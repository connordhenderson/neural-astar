{
 "cells": [
  {
   "cell_type": "code",
   "execution_count": 1,
   "id": "81ffc41a",
   "metadata": {},
   "outputs": [],
   "source": [
    "import matplotlib.pyplot as plt\n",
    "import numpy as np\n",
    "from IPython.display import display, Markdown\n",
    "%matplotlib inline"
   ]
  },
  {
   "cell_type": "markdown",
   "id": "02237a60",
   "metadata": {},
   "source": [
    "# Maze Generation\n",
    "\n",
    "Creates a randomly generated maze "
   ]
  },
  {
   "cell_type": "code",
   "execution_count": 2,
   "id": "2a0d3073",
   "metadata": {},
   "outputs": [
    {
     "data": {
      "text/plain": [
       "<matplotlib.image.AxesImage at 0x17f67bd61f0>"
      ]
     },
     "metadata": {},
     "output_type": "display_data"
    },
    {
     "data": {
      "image/png": "[encoded data removed]",
      "text/plain": [
       "<Figure size 432x288 with 1 Axes>"
      ]
     },
     "metadata": {
      "needs_background": "light"
     },
     "output_type": "display_data"
    }
   ],
   "source": [
    "\n",
    "\"\"\"\n",
    "    ==============================================\n",
    "    GENERATE_MAZE\n",
    "        input:\n",
    "            n_cells (int) :     width of maze\n",
    "    ==============================================\n",
    "    Given a current cell as a parameter\n",
    "    Mark the current cell as visited\n",
    "    While the current cell has any unvisited neighbour cells\n",
    "        Choose one of the unvisited neighbours\n",
    "        Remove the wall between the current cell and the chosen cell\n",
    "        Invoke the routine recursively for the chosen cell\n",
    "\"\"\"\n",
    "def generate_maze(n_cells):\n",
    "    # Generate cells\n",
    "    cells = np.zeros((n_cells * 2 + 1, n_cells * 2 + 1))\n",
    "    cells[::2] = 1\n",
    "    cells.T[::2] = 1\n",
    "\n",
    "    # Create maze recursively\n",
    "    visited = np.zeros((n_cells,n_cells))\n",
    "    candidates = [[0,0]]\n",
    "    while candidates != []:\n",
    "        np.random.shuffle(candidates)\n",
    "        if candidates == []:\n",
    "            break\n",
    "        candidate = np.array(candidates.pop())\n",
    "        directions = [0,1,2,3]\n",
    "        np.random.shuffle(directions)\n",
    "\n",
    "        for direction in directions:\n",
    "            # Get the neighbour coordinate\n",
    "            direction = np.array(np.round([np.sin(direction * np.pi / 2), np.cos(direction * np.pi / 2)]), dtype=int)\n",
    "            neighbour = np.array([candidate[0] + direction[0], candidate[1] + direction[1]], dtype=int)\n",
    "            # Check if the neighbour is within bounds\n",
    "            if neighbour[0] >= n_cells or neighbour[0] < 0 \\\n",
    "                    or neighbour[1] >= n_cells or neighbour[1] < 0 \\\n",
    "                    or visited[neighbour[0]][neighbour[1]] == 1: continue\n",
    "\n",
    "            candidates += [candidate, neighbour]\n",
    "            visited[neighbour[0], neighbour[1]] = 1\n",
    "            candidate = np.asarray(candidate) * 2 + 1\n",
    "            candidate = [candidate[0] + direction[0], candidate[1] + direction[1]]\n",
    "            cells[candidate[0]][candidate[1]] = 0\n",
    "            break\n",
    "    return cells[1:-1][:,1:-1]\n",
    "        \n",
    "# Display generated maze\n",
    "maze = generate_maze(5)\n",
    "display(plt.imshow(maze))"
   ]
  },
  {
   "cell_type": "markdown",
   "id": "768cdea9",
   "metadata": {},
   "source": [
    "# Wide Maze"
   ]
  },
  {
   "cell_type": "code",
   "execution_count": 23,
   "id": "28f365b1",
   "metadata": {},
   "outputs": [
    {
     "data": {
      "text/plain": [
       "(8, 8)"
      ]
     },
     "metadata": {},
     "output_type": "display_data"
    },
    {
     "data": {
      "text/plain": [
       "<matplotlib.image.AxesImage at 0x17f69da45b0>"
      ]
     },
     "metadata": {},
     "output_type": "display_data"
    },
    {
     "data": {
      "image/png": "[encoded data removed]",
      "text/plain": [
       "<Figure size 432x288 with 1 Axes>"
      ]
     },
     "metadata": {
      "needs_background": "light"
     },
     "output_type": "display_data"
    }
   ],
   "source": [
    "\n",
    "\"\"\"\n",
    "    ==============================================\n",
    "    GENERATE_MAZE\n",
    "        input:\n",
    "            n_cells (int) :     width of maze\n",
    "    ==============================================\n",
    "    Given a current cell as a parameter\n",
    "    Mark the current cell as visited\n",
    "    While the current cell has any unvisited neighbour cells\n",
    "        Choose one of the unvisited neighbours\n",
    "        Remove the wall between the current cell and the chosen cell\n",
    "        Invoke the routine recursively for the chosen cell\n",
    "\"\"\"\n",
    "def generate_wide_maze(n_cells, cell_width=1, wall_width=1):\n",
    "    maze = generate_maze(n_cells)\n",
    "    # Cell widths\n",
    "    nm = []\n",
    "    for j in range(len(maze[0])):\n",
    "        m = []\n",
    "        for i in range(len(maze[0])):\n",
    "            if i % 2 == 0:\n",
    "                for x in range(cell_width-1):\n",
    "                    m.append(maze[j][i])\n",
    "            m.append(maze[j][i])\n",
    "        nm.append(m)\n",
    "    nnm = []\n",
    "    nm = np.asarray(nm).T.tolist()\n",
    "    for i in range(len(nm)):\n",
    "        m = []\n",
    "        for j in range(len(nm[0])):\n",
    "            if j % 2 == 0:\n",
    "                for x in range(cell_width-1):\n",
    "                    m.append(nm[i][j])\n",
    "            m.append(nm[i][j])\n",
    "        nnm.append(m)\n",
    "        \n",
    "    # Wall widths\n",
    "    nnm = np.asarray(nnm)\n",
    "    maze = nnm.copy()\n",
    "    nm = []\n",
    "    for j in range(len(maze[0])):\n",
    "        m = []\n",
    "        for i in range(len(maze[0])):\n",
    "            if i % 2 == cell_width:\n",
    "                for x in range(wall_width-1):\n",
    "                    m.append(maze[j][i])\n",
    "            m.append(maze[j][i])\n",
    "        nm.append(m)\n",
    "    nnm = []\n",
    "    nm = np.asarray(nm).T.tolist()\n",
    "    for i in range(len(nm)):\n",
    "        m = []\n",
    "        for j in range(len(nm[0])):\n",
    "            if j % 2 == cell_width:\n",
    "                for x in range(wall_width-1):\n",
    "                    m.append(nm[i][j])\n",
    "            m.append(nm[i][j])\n",
    "        nnm.append(m)\n",
    "        \n",
    "    return np.asarray(nnm)\n",
    "        \n",
    "# Display generated maze\n",
    "maze = generate_wide_maze(3, cell_width=2, wall_width=4)\n",
    "display(maze.shape, plt.imshow(maze))"
   ]
  },
  {
   "cell_type": "code",
   "execution_count": 24,
   "id": "e2c4205d",
   "metadata": {},
   "outputs": [
    {
     "data": {
      "text/plain": [
       "array([[0., 0., 0., 0., 0., 0., 0., 0.],\n",
       "       [0., 0., 0., 0., 0., 0., 0., 0.],\n",
       "       [0., 0., 1., 1., 1., 1., 0., 0.],\n",
       "       [0., 0., 0., 0., 0., 1., 0., 0.],\n",
       "       [0., 0., 0., 0., 0., 1., 0., 0.],\n",
       "       [0., 0., 1., 1., 1., 1., 1., 1.],\n",
       "       [0., 0., 0., 0., 0., 0., 0., 0.],\n",
       "       [0., 0., 0., 0., 0., 0., 0., 0.]])"
      ]
     },
     "execution_count": 24,
     "metadata": {},
     "output_type": "execute_result"
    }
   ],
   "source": [
    "maze"
   ]
  },
  {
   "cell_type": "markdown",
   "id": "8ffdace9",
   "metadata": {},
   "source": [
    "# A* Algorithm\n",
    "    reconstruct(source, current):\n",
    "        total_path = {current}\n",
    "        while current in source.keys:\n",
    "            current = source[current]\n",
    "            total_path.prepend(current)\n",
    "        return total_path\n",
    "        \n",
    "    a*(start, goal, h)\n",
    "    openset = {start}\n",
    "    source = {}\n",
    "    \n",
    "    gscore = {default = inf}\n",
    "    gscore[start] = 0\n",
    "    \n",
    "    fscore = {default = inf}\n",
    "    fscore[start] = h[start]\n",
    "    \n",
    "    while openset != {}\n",
    "        current = lowest fscore in openset\n",
    "        if current = goal:\n",
    "            return reconstruct_path(source, current)\n",
    "        openset.remove(current)\n",
    "        for each neighbour in current:\n",
    "            tentative_gscore = gscore[current] + distance(current, neighbour)\n",
    "            \n",
    "            if tentative_gscore < gscore[neighbour]\n",
    "                source[neighbour] = current\n",
    "                gscore[neighbour] = tentative_gscore\n",
    "                fscore[neighbour] = tentative_gscore + h(neighbour)\n",
    "                \n",
    "                if neighbor not in openset:\n",
    "                    openset.add(neighbour)\n",
    "    return None\n",
    "            \n",
    "        "
   ]
  },
  {
   "cell_type": "code",
   "execution_count": null,
   "id": "892ee9c3",
   "metadata": {},
   "outputs": [],
   "source": []
  }
 ],
 "metadata": {
  "kernelspec": {
   "display_name": "Python 3 (ipykernel)",
   "language": "python",
   "name": "python3"
  },
  "language_info": {
   "codemirror_mode": {
    "name": "ipython",
    "version": 3
   },
   "file_extension": ".py",
   "mimetype": "text/x-python",
   "name": "python",
   "nbconvert_exporter": "python",
   "pygments_lexer": "ipython3",
   "version": "3.9.10"
  }
 },
 "nbformat": 4,
 "nbformat_minor": 5
}
