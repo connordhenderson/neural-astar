{
 "cells": [
  {
   "cell_type": "code",
   "execution_count": 119,
   "id": "92fe6b72",
   "metadata": {},
   "outputs": [],
   "source": [
    "import numpy as np\n",
    "import torch\n",
    "\n",
    "%run maze_generation.ipynb import *"
   ]
  },
  {
   "cell_type": "code",
   "execution_count": 226,
   "id": "07eb2b46",
   "metadata": {},
   "outputs": [
    {
     "name": "stdout",
     "output_type": "stream",
     "text": [
      "(8, 8)\n"
     ]
    },
    {
     "data": {
      "image/png": "[encoded data removed]",
      "text/plain": [
       "<Figure size 432x288 with 1 Axes>"
      ]
     },
     "metadata": {
      "needs_background": "light"
     },
     "output_type": "display_data"
    }
   ],
   "source": [
    "np.random.seed(1)\n",
    "maze = generate_wide_maze(3,2)\n",
    "plt.imshow(maze)\n",
    "print(maze.shape)"
   ]
  },
  {
   "cell_type": "code",
   "execution_count": 227,
   "id": "5881a1b1",
   "metadata": {},
   "outputs": [
    {
     "data": {
      "text/plain": [
       "tensor(27)"
      ]
     },
     "execution_count": 227,
     "metadata": {},
     "output_type": "execute_result"
    }
   ],
   "source": [
    "\"\"\"\n",
    "NODE SELECTION\n",
    "    A differentiable operation designed to select the lowest cost node.\n",
    "    \n",
    "    input:\n",
    "        o (1d Tensor): 1d Tensor indicating status of node within the openset\n",
    "        g (1d Tensor): 1d Tensor indicating the g-score associated to a node\n",
    "        h (1d Tensor): 1d Tensor indicating estimated costs of reaching each node\n",
    "    output:\n",
    "        (int): index of the lowest cost node in the flattened tensor\n",
    "\"\"\"\n",
    "def node_selection(o,g,h):\n",
    "    tau = 5\n",
    "    v_star = (np.exp(-(g.flatten() + h.flatten())/tau) * o.flatten()) / \\\n",
    "                    (np.exp(-(g.flatten() + h.flatten())/tau) @ o.T.flatten())\n",
    "    return v_star.flatten().argmax()\n",
    "\n",
    "o = torch.Tensor(np.random.randint(0,2,len(maze)**2).reshape((len(maze),len(maze))))\n",
    "g = torch.Tensor(np.random.rand(len(maze)**2).reshape((len(maze),len(maze))))\n",
    "h = torch.Tensor(np.random.rand(len(maze)**2).reshape((len(maze),len(maze))))\n",
    "o.flatten()[27] = 1\n",
    "g.flatten()[27] = 0\n",
    "h.flatten()[27] = 0\n",
    "v_star = node_selection(o,g,h)\n",
    "v_star"
   ]
  },
  {
   "cell_type": "code",
   "execution_count": 238,
   "id": "a86da69a",
   "metadata": {},
   "outputs": [
    {
     "name": "stdout",
     "output_type": "stream",
     "text": [
      "v_star tensor(27)\n",
      "maze\n",
      " [[0 0 0 0 0 1 0 0]\n",
      " [0 0 0 0 0 1 0 0]\n",
      " [0 0 1 1 1 1 0 0]\n",
      " [0 0 1 0 0 0 0 0]\n",
      " [0 0 1 0 0 0 0 0]\n",
      " [0 0 1 0 0 1 0 0]\n",
      " [0 0 0 0 0 1 0 0]\n",
      " [0 0 0 0 0 1 0 0]]\n",
      "v_star_I\n",
      " tensor([[0., 0., 0., 0., 0., 0., 0., 0.],\n",
      "        [0., 0., 0., 0., 0., 0., 0., 0.],\n",
      "        [0., 0., 0., 0., 0., 0., 0., 0.],\n",
      "        [0., 0., 0., 1., 0., 0., 0., 0.],\n",
      "        [0., 0., 0., 0., 0., 0., 0., 0.],\n",
      "        [0., 0., 0., 0., 0., 0., 0., 0.],\n",
      "        [0., 0., 0., 0., 0., 0., 0., 0.],\n",
      "        [0., 0., 0., 0., 0., 0., 0., 0.]])\n",
      "node expansion\n",
      " tensor([[[[0., 0., 0., 0., 0., 0., 0., 0.],\n",
      "          [0., 0., 0., 0., 0., 0., 0., 0.],\n",
      "          [0., 0., 0., 0., 0., 0., 0., 0.],\n",
      "          [0., 0., 0., 0., 1., 0., 0., 0.],\n",
      "          [0., 0., 0., 1., 1., 0., 0., 0.],\n",
      "          [0., 0., 0., 0., 0., 0., 0., 0.],\n",
      "          [0., 0., 0., 0., 0., 0., 0., 0.],\n",
      "          [0., 0., 0., 0., 0., 0., 0., 0.]]]], dtype=torch.float64)\n"
     ]
    }
   ],
   "source": [
    "\"\"\"\n",
    "NODE EXPANSION\n",
    "    Expand the search to include the nodes that are neighbours to a given node.\n",
    "\"\"\"\n",
    "def node_expansion(v_star, cells, o, c):\n",
    "    # Create the kernel\n",
    "    K = torch.Tensor([[[[1,1,1],[1,0,1],[1,1,1]]]])\n",
    "    \n",
    "    # Get the indicator vector from the \n",
    "    v_star_I = torch.zeros(len(maze), len(maze))\n",
    "    v_star_I.flatten()[v_star] = 1\n",
    "\n",
    "    # Perform the convolution\n",
    "    neighbours = torch.nn.functional.conv2d(v_star_I.reshape((1,1,len(maze),len(maze))), K, padding=1)\n",
    "    \n",
    "    # Exclude walls, and elements in the closed set:\n",
    "    neighbours = neighbours * (1 - cells) * (1 - o) * (1 - c)\n",
    "    return neighbours\n",
    "\n",
    "v_star_I = torch.zeros(len(maze), len(maze))\n",
    "v_star_I.flatten()[v_star] = 1\n",
    "    \n",
    "o = torch.zeros(maze.shape)    \n",
    "c = o = torch.zeros(maze.shape)\n",
    "    \n",
    "print(\"v_star\",v_star)    \n",
    "print(\"maze\\n\",maze)\n",
    "print(\"v_star_I\\n\",v_star_I)\n",
    "neighbours = node_expansion(v_star, maze, o, c)\n",
    "print(\"node expansion\\n\",neighbours)"
   ]
  },
  {
   "cell_type": "code",
   "execution_count": null,
   "id": "b043df00",
   "metadata": {},
   "outputs": [],
   "source": [
    "\"\"\"\n",
    "UPDATING GUIDANCE COSTS: G\n",
    "\"\"\""
   ]
  },
  {
   "cell_type": "code",
   "execution_count": null,
   "id": "ab9839b8",
   "metadata": {},
   "outputs": [],
   "source": []
  },
  {
   "cell_type": "code",
   "execution_count": null,
   "id": "aa646c03",
   "metadata": {},
   "outputs": [],
   "source": []
  },
  {
   "cell_type": "code",
   "execution_count": null,
   "id": "72559dd9",
   "metadata": {},
   "outputs": [],
   "source": []
  },
  {
   "cell_type": "code",
   "execution_count": null,
   "id": "97628c42",
   "metadata": {},
   "outputs": [],
   "source": []
  },
  {
   "cell_type": "code",
   "execution_count": 195,
   "id": "c8845aba",
   "metadata": {},
   "outputs": [
    {
     "data": {
      "text/plain": [
       "tensor([[[[0., 0., 0., 0., 0., 0., 0., 0., 0., 0., 0., 0., 0., 0., 0.],\n",
       "          [0., 0., 0., 0., 0., 0., 0., 0., 0., 0., 0., 0., 0., 0., 0.],\n",
       "          [0., 0., 0., 0., 0., 0., 0., 0., 0., 1., 0., 0., 0., 0., 0.],\n",
       "          [0., 0., 0., 0., 0., 0., 0., 0., 0., 0., 0., 0., 0., 0., 0.],\n",
       "          [0., 0., 0., 0., 0., 0., 0., 0., 0., 0., 0., 0., 0., 0., 0.],\n",
       "          [0., 0., 0., 0., 0., 0., 0., 0., 0., 0., 0., 0., 0., 0., 0.],\n",
       "          [0., 0., 0., 0., 0., 0., 0., 0., 0., 0., 0., 0., 0., 0., 0.],\n",
       "          [0., 0., 0., 0., 0., 0., 0., 0., 0., 0., 0., 0., 0., 0., 0.],\n",
       "          [0., 0., 0., 0., 0., 0., 0., 0., 0., 0., 0., 0., 0., 0., 0.],\n",
       "          [0., 0., 0., 0., 0., 0., 0., 0., 0., 0., 0., 0., 0., 0., 0.],\n",
       "          [0., 0., 0., 0., 0., 0., 0., 0., 0., 0., 0., 0., 0., 0., 0.],\n",
       "          [0., 0., 0., 0., 0., 0., 0., 0., 0., 0., 0., 0., 0., 0., 0.],\n",
       "          [0., 0., 0., 0., 0., 0., 0., 0., 0., 0., 0., 0., 0., 0., 0.],\n",
       "          [0., 0., 0., 0., 0., 0., 0., 0., 0., 0., 0., 0., 0., 0., 0.],\n",
       "          [0., 0., 0., 0., 0., 0., 0., 0., 0., 0., 0., 0., 0., 0., 0.]]]])"
      ]
     },
     "execution_count": 195,
     "metadata": {},
     "output_type": "execute_result"
    }
   ],
   "source": [
    "v_star_I.reshape((1,1,15,15))"
   ]
  },
  {
   "cell_type": "code",
   "execution_count": 182,
   "id": "f260bc81",
   "metadata": {},
   "outputs": [
    {
     "data": {
      "text/plain": [
       "tensor([[[[1., 1., 1.],\n",
       "          [1., 0., 1.],\n",
       "          [1., 1., 1.]]]])"
      ]
     },
     "execution_count": 182,
     "metadata": {},
     "output_type": "execute_result"
    }
   ],
   "source": [
    "\n",
    "K"
   ]
  },
  {
   "cell_type": "code",
   "execution_count": 196,
   "id": "51f06ad1",
   "metadata": {},
   "outputs": [
    {
     "data": {
      "text/plain": [
       "tensor([[[[0., 0., 0., 0., 0., 0., 0., 1., 1., 1., 0., 0., 0.],\n",
       "          [0., 0., 0., 0., 0., 0., 0., 1., 0., 1., 0., 0., 0.],\n",
       "          [0., 0., 0., 0., 0., 0., 0., 1., 1., 1., 0., 0., 0.],\n",
       "          [0., 0., 0., 0., 0., 0., 0., 0., 0., 0., 0., 0., 0.],\n",
       "          [0., 0., 0., 0., 0., 0., 0., 0., 0., 0., 0., 0., 0.],\n",
       "          [0., 0., 0., 0., 0., 0., 0., 0., 0., 0., 0., 0., 0.],\n",
       "          [0., 0., 0., 0., 0., 0., 0., 0., 0., 0., 0., 0., 0.],\n",
       "          [0., 0., 0., 0., 0., 0., 0., 0., 0., 0., 0., 0., 0.],\n",
       "          [0., 0., 0., 0., 0., 0., 0., 0., 0., 0., 0., 0., 0.],\n",
       "          [0., 0., 0., 0., 0., 0., 0., 0., 0., 0., 0., 0., 0.],\n",
       "          [0., 0., 0., 0., 0., 0., 0., 0., 0., 0., 0., 0., 0.],\n",
       "          [0., 0., 0., 0., 0., 0., 0., 0., 0., 0., 0., 0., 0.],\n",
       "          [0., 0., 0., 0., 0., 0., 0., 0., 0., 0., 0., 0., 0.]]]])"
      ]
     },
     "execution_count": 196,
     "metadata": {},
     "output_type": "execute_result"
    }
   ],
   "source": [
    "torch.nn.functional.conv2d(v_star_I.reshape((1,1,len(maze),len(maze))), K)"
   ]
  },
  {
   "cell_type": "code",
   "execution_count": 177,
   "id": "4a3a601c",
   "metadata": {},
   "outputs": [
    {
     "ename": "RuntimeError",
     "evalue": "Expected 3D (unbatched) or 4D (batched) input to conv2d, but got input of size: [15, 15]",
     "output_type": "error",
     "traceback": [
      "\u001b[1;31m---------------------------------------------------------------------------\u001b[0m",
      "\u001b[1;31mRuntimeError\u001b[0m                              Traceback (most recent call last)",
      "Input \u001b[1;32mIn [177]\u001b[0m, in \u001b[0;36m<cell line: 1>\u001b[1;34m()\u001b[0m\n\u001b[1;32m----> 1\u001b[0m \u001b[43mtorch\u001b[49m\u001b[38;5;241;43m.\u001b[39;49m\u001b[43mnn\u001b[49m\u001b[38;5;241;43m.\u001b[39;49m\u001b[43mfunctional\u001b[49m\u001b[38;5;241;43m.\u001b[39;49m\u001b[43mconv2d\u001b[49m\u001b[43m(\u001b[49m\u001b[43mv_star_I\u001b[49m\u001b[43m,\u001b[49m\u001b[43m \u001b[49m\u001b[43mtorch\u001b[49m\u001b[38;5;241;43m.\u001b[39;49m\u001b[43mTensor\u001b[49m\u001b[43m(\u001b[49m\u001b[43m[\u001b[49m\u001b[43m[\u001b[49m\u001b[43m[\u001b[49m\u001b[43m[\u001b[49m\u001b[38;5;241;43m1\u001b[39;49m\u001b[43m,\u001b[49m\u001b[38;5;241;43m1\u001b[39;49m\u001b[43m,\u001b[49m\u001b[38;5;241;43m1\u001b[39;49m\u001b[43m]\u001b[49m\u001b[43m,\u001b[49m\u001b[43m[\u001b[49m\u001b[38;5;241;43m1\u001b[39;49m\u001b[43m,\u001b[49m\u001b[38;5;241;43m0\u001b[39;49m\u001b[43m,\u001b[49m\u001b[38;5;241;43m1\u001b[39;49m\u001b[43m]\u001b[49m\u001b[43m,\u001b[49m\u001b[43m[\u001b[49m\u001b[38;5;241;43m1\u001b[39;49m\u001b[43m,\u001b[49m\u001b[38;5;241;43m1\u001b[39;49m\u001b[43m,\u001b[49m\u001b[38;5;241;43m1\u001b[39;49m\u001b[43m]\u001b[49m\u001b[43m]\u001b[49m\u001b[43m]\u001b[49m\u001b[43m]\u001b[49m\u001b[43m)\u001b[49m\u001b[43m)\u001b[49m\n",
      "\u001b[1;31mRuntimeError\u001b[0m: Expected 3D (unbatched) or 4D (batched) input to conv2d, but got input of size: [15, 15]"
     ]
    }
   ],
   "source": [
    "torch.nn.functional.conv2d(v_star_I, "
   ]
  },
  {
   "cell_type": "code",
   "execution_count": 525,
   "id": "a23dfb38",
   "metadata": {},
   "outputs": [],
   "source": [
    "normal_distance = lambda x,y : np.linalg.norm(np.array(x) - np.array(y))\n",
    "\n",
    "\n",
    "def reconstruct_path(source, current):\n",
    "    total_path = [current]\n",
    "    while str(current) in source.keys():\n",
    "        current = source[str(current)]\n",
    "        total_path = [current] + total_path\n",
    "    return total_path\n",
    "\n",
    "def neural_a_star(cells, start=(1,1), end=(-2,-2), h = normal_distance, diagonals = False):\n",
    "    MAZE_SIZE = len(cells)\n",
    "    \n",
    "    openset = np.zeros(MAZE_SIZE ** 2)\n",
    "    closedset = np.zeros(MAZE_SIZE ** 2)\n",
    "    source = np.zeros(MAZE_SIZE ** 2)\n",
    "\n",
    "    gscore = np.full(MAZE_SIZE ** 2, np.inf)\n",
    "    fscore = np.full(MAZE_SIZE ** 2, np.inf)\n",
    "\n",
    "    start = t2o(MAZE_SIZE, start)\n",
    "    end = t2o(MAZE_SIZE, end)\n",
    "    \n",
    "    openset[start] = 1\n",
    "    gscore[start] = 0\n",
    "    fscore[start] = h(start, end)\n",
    "    \n",
    "    while np.any(openset):\n",
    "                \n",
    "        # Get the lowest f-score in the open-set\n",
    "        current = np.where(fscore == np.min(fscore))[0]\n",
    "        openset[current] = 0\n",
    "        closedset[current] = 1\n",
    "        \n",
    "        print(f\"openset {np.sum(openset)} // closedset {np.sum(closedset)} // current {current}\")\n",
    "        \n",
    "        # If we're at the goal, reconstruct our path and return it\n",
    "        print(current, end)\n",
    "        if current == end:\n",
    "            print(\"End\")\n",
    "            return reconstruct_path(source, current)\n",
    "        \n",
    "        # Check each neighbouring cell and update the f/g scores\n",
    "        if diagonals == True:\n",
    "            neighbours = [0,0.5,1,1.5,2,2.5,3]\n",
    "        else:\n",
    "            neighbours = [0,1,2,3]\n",
    "            \n",
    "        neighbours = [np.array(np.round([np.sin(direction * np.pi / 2), np.cos(direction * np.pi / 2)]), dtype=int) \n",
    "                           + o2t(MAZE_SIZE, current) for direction in neighbours]\n",
    "        \n",
    "        print(neighbours, \"curr\", current, 'o2t curr', o2t(MAZE_SIZE, current))\n",
    "        \n",
    "        for neighbour in neighbours:\n",
    "            neighbour = tuple(neighbour)\n",
    "            print(\"neighbour\", neighbour)\n",
    "            # Ensure the neighbour is within bounds and is not a wall\n",
    "            if neighbour[0] >= MAZE_SIZE or neighbour[0] < 0 \\\n",
    "                    or neighbour[1] >= MAZE_SIZE or neighbour[1] < 0 \\\n",
    "                    or cells[neighbour] != 0 \\\n",
    "                    or closedset[t2o(MAZE_SIZE, neighbour)] == 1: continue\n",
    "                \n",
    "            tentative_gscore = gscore[current] + 1\n",
    "            \n",
    "            neighbour = t2o(MAZE_SIZE, neighbour)\n",
    "            print(\"neighbour2\", neighbour)\n",
    "            \n",
    "            if tentative_gscore <= gscore[neighbour]:\n",
    "                source[neighbour] = current\n",
    "                gscore[neighbour] = tentative_gscore\n",
    "                fscore[neighbour] = tentative_gscore + h(neighbour, end)\n",
    "\n",
    "                if openset[neighbour] == 0:\n",
    "                    openset[neighbour] = 1\n",
    "                    \n",
    "    return source, gscore, fscore"
   ]
  },
  {
   "cell_type": "code",
   "execution_count": 147,
   "id": "8d558085",
   "metadata": {},
   "outputs": [
    {
     "name": "stdout",
     "output_type": "stream",
     "text": [
      "MAZE_SIZE =  19\n"
     ]
    },
    {
     "data": {
      "text/plain": [
       "<matplotlib.image.AxesImage at 0x1725f0080a0>"
      ]
     },
     "metadata": {},
     "output_type": "display_data"
    },
    {
     "ename": "NameError",
     "evalue": "name 'neural_a_star' is not defined",
     "output_type": "error",
     "traceback": [
      "\u001b[1;31m---------------------------------------------------------------------------\u001b[0m",
      "\u001b[1;31mNameError\u001b[0m                                 Traceback (most recent call last)",
      "Input \u001b[1;32mIn [147]\u001b[0m, in \u001b[0;36m<cell line: 5>\u001b[1;34m()\u001b[0m\n\u001b[0;32m      3\u001b[0m \u001b[38;5;28mprint\u001b[39m(\u001b[38;5;124m\"\u001b[39m\u001b[38;5;124mMAZE_SIZE = \u001b[39m\u001b[38;5;124m\"\u001b[39m, \u001b[38;5;28mlen\u001b[39m(maze))\n\u001b[0;32m      4\u001b[0m display(plt\u001b[38;5;241m.\u001b[39mimshow(maze))\n\u001b[1;32m----> 5\u001b[0m p \u001b[38;5;241m=\u001b[39m \u001b[43mneural_a_star\u001b[49m(maze)\n",
      "\u001b[1;31mNameError\u001b[0m: name 'neural_a_star' is not defined"
     ]
    },
    {
     "data": {
      "image/png": "[encoded data removed]",
      "text/plain": [
       "<Figure size 432x288 with 1 Axes>"
      ]
     },
     "metadata": {
      "needs_background": "light"
     },
     "output_type": "display_data"
    }
   ],
   "source": [
    "\n"
   ]
  },
  {
   "cell_type": "code",
   "execution_count": 522,
   "id": "e26cfa86",
   "metadata": {},
   "outputs": [
    {
     "ename": "TypeError",
     "evalue": "'tuple' object does not support item assignment",
     "output_type": "error",
     "traceback": [
      "\u001b[1;31m---------------------------------------------------------------------------\u001b[0m",
      "\u001b[1;31mTypeError\u001b[0m                                 Traceback (most recent call last)",
      "Input \u001b[1;32mIn [522]\u001b[0m, in \u001b[0;36m<cell line: 2>\u001b[1;34m()\u001b[0m\n\u001b[0;32m      1\u001b[0m a \u001b[38;5;241m=\u001b[39m (\u001b[38;5;241m0\u001b[39m,\u001b[38;5;241m1\u001b[39m)\n\u001b[1;32m----> 2\u001b[0m a[\u001b[38;5;241m0\u001b[39m] \u001b[38;5;241m=\u001b[39m \u001b[38;5;241m1\u001b[39m\n",
      "\u001b[1;31mTypeError\u001b[0m: 'tuple' object does not support item assignment"
     ]
    }
   ],
   "source": [
    "a = (0,1)\n",
    "a[0] = 1"
   ]
  },
  {
   "cell_type": "code",
   "execution_count": 424,
   "id": "ec6f04e3",
   "metadata": {},
   "outputs": [
    {
     "data": {
      "text/plain": [
       "(19, 19)"
      ]
     },
     "execution_count": 424,
     "metadata": {},
     "output_type": "execute_result"
    }
   ],
   "source": [
    "maze.shape"
   ]
  },
  {
   "cell_type": "code",
   "execution_count": 366,
   "id": "38db2083",
   "metadata": {},
   "outputs": [
    {
     "data": {
      "text/plain": [
       "(array([0.01976358, 0.        , 0.03871644, 0.04884302, 0.        ,\n",
       "        0.26777215, 0.05812617, 0.21286082, 0.        , 0.        ,\n",
       "        0.02119404, 0.        , 0.        , 0.02578841, 0.        ,\n",
       "        0.16360934, 0.        , 0.        , 0.01356245, 0.02473344,\n",
       "        0.01129996, 0.        , 0.05448335, 0.        , 0.03924684]),\n",
       " (array([5], dtype=int64),))"
      ]
     },
     "execution_count": 366,
     "metadata": {},
     "output_type": "execute_result"
    }
   ],
   "source": [
    "v_star = (np.exp(-(g + h)/tau) * o) / (np.exp(-(g + h)/tau) @ o.T)\n",
    "res = np.where(v_star == np.max(v_star))\n",
    "v_star, res"
   ]
  },
  {
   "cell_type": "code",
   "execution_count": 367,
   "id": "a100b9b7",
   "metadata": {},
   "outputs": [
    {
     "data": {
      "text/plain": [
       "(array([1, 0, 1, 1, 0, 1, 1, 1, 0, 0, 1, 0, 0, 1, 0, 1, 0, 0, 1, 1, 1, 0,\n",
       "        1, 0, 1]),\n",
       " array([9.88617946, 5.27685573, 6.10771796, 3.29000053, 2.26068109,\n",
       "        0.42117772, 5.35401447, 1.        , 2.6421589 , 0.89768528,\n",
       "        9.18189539, 4.89151028, 8.20695147, 4.73121819, 5.97606969,\n",
       "        3.22037494, 4.00646982, 7.89122021, 6.98690732, 9.71420307,\n",
       "        8.1939698 , 7.95399589, 0.42722553, 2.47754742, 4.35049796]),\n",
       " array([3.99780999, 8.67458401, 4.41415327, 6.07013496, 9.52486934,\n",
       "        0.43133264, 3.13609817, 1.        , 6.39282116, 0.76344943,\n",
       "        4.35269811, 2.67311549, 8.92174924, 7.8223477 , 6.01661128,\n",
       "        0.09541007, 1.97523319, 1.78583582, 8.77976061, 3.04820832,\n",
       "        8.48522501, 7.96689503, 8.38649144, 2.99963357, 6.10333954]))"
      ]
     },
     "execution_count": 367,
     "metadata": {},
     "output_type": "execute_result"
    }
   ],
   "source": [
    "o, g, h"
   ]
  },
  {
   "cell_type": "code",
   "execution_count": 271,
   "id": "e30f89f4",
   "metadata": {},
   "outputs": [
    {
     "data": {
      "text/plain": [
       "array([[0.        , 0.84707385, 0.        , 0.74817963, 0.        ],\n",
       "       [0.        , 0.        , 0.        , 0.72976068, 0.92478338],\n",
       "       [0.79926324, 0.        , 0.        , 0.        , 0.80891841],\n",
       "       [0.74038291, 0.        , 0.30119421, 0.        , 0.87998011],\n",
       "       [0.87594847, 0.91958669, 0.92200382, 0.76634524, 0.77446267]])"
      ]
     },
     "execution_count": 271,
     "metadata": {},
     "output_type": "execute_result"
    }
   ],
   "source": [
    "numer = np.exp(-(g+h)/tau) * o\n",
    "numer"
   ]
  },
  {
   "cell_type": "code",
   "execution_count": 272,
   "id": "1d602080",
   "metadata": {},
   "outputs": [
    {
     "data": {
      "text/plain": [
       "array([[1.59525348, 1.67553764, 1.82999918, 2.64925667, 4.24451014],\n",
       "       [1.53323137, 1.65454405, 1.75762545, 2.68305632, 4.21628769],\n",
       "       [1.61042342, 1.5711941 , 1.60818165, 2.34227121, 3.95269463],\n",
       "       [1.66495082, 1.60692582, 1.62036302, 1.92155723, 3.58650805],\n",
       "       [1.68593193, 1.54080792, 1.65041115, 2.57241497, 4.2583469 ]])"
      ]
     },
     "execution_count": 272,
     "metadata": {},
     "output_type": "execute_result"
    }
   ],
   "source": [
    "denom = np.exp(-(g+h)/tau) @ o.T\n",
    "denom"
   ]
  },
  {
   "cell_type": "code",
   "execution_count": 273,
   "id": "ed9897d7",
   "metadata": {},
   "outputs": [
    {
     "data": {
      "text/plain": [
       "array([[0.        , 0.50555346, 0.        , 0.28241115, 0.        ],\n",
       "       [0.        , 0.        , 0.        , 0.27198858, 0.21933593],\n",
       "       [0.49630627, 0.        , 0.        , 0.        , 0.20464986],\n",
       "       [0.44468756, 0.        , 0.1858807 , 0.        , 0.24535847],\n",
       "       [0.51956337, 0.59682111, 0.55865099, 0.29790887, 0.18186932]])"
      ]
     },
     "execution_count": 273,
     "metadata": {},
     "output_type": "execute_result"
    }
   ],
   "source": [
    "numer/denom"
   ]
  },
  {
   "cell_type": "code",
   "execution_count": 268,
   "id": "bc9f45eb",
   "metadata": {},
   "outputs": [
    {
     "data": {
      "text/plain": [
       "array([[0.        , 0.35823491, 0.        , 0.5398286 , 0.23409502],\n",
       "       [0.30776496, 0.        , 0.39468965, 0.        , 0.24720273],\n",
       "       [0.        , 0.31407696, 0.        , 0.42113881, 0.2916167 ],\n",
       "       [0.        , 0.        , 0.41313911, 0.        , 0.22693705],\n",
       "       [0.30077245, 0.37116372, 0.34233428, 0.54330736, 0.        ]])"
      ]
     },
     "execution_count": 268,
     "metadata": {},
     "output_type": "execute_result"
    }
   ],
   "source": [
    "np.divide(numer, denom)"
   ]
  },
  {
   "cell_type": "code",
   "execution_count": 274,
   "id": "064a2c16",
   "metadata": {},
   "outputs": [
    {
     "data": {
      "text/plain": [
       "array([[1.59525348, 1.67553764, 1.82999918, 2.64925667, 4.24451014],\n",
       "       [1.53323137, 1.65454405, 1.75762545, 2.68305632, 4.21628769],\n",
       "       [1.61042342, 1.5711941 , 1.60818165, 2.34227121, 3.95269463],\n",
       "       [1.66495082, 1.60692582, 1.62036302, 1.92155723, 3.58650805],\n",
       "       [1.68593193, 1.54080792, 1.65041115, 2.57241497, 4.2583469 ]])"
      ]
     },
     "execution_count": 274,
     "metadata": {},
     "output_type": "execute_result"
    }
   ],
   "source": [
    "np.inner(np.exp(-(g+h)/tau), o)\n",
    "\n"
   ]
  },
  {
   "cell_type": "code",
   "execution_count": null,
   "id": "d100fe33",
   "metadata": {},
   "outputs": [],
   "source": [
    "np.exp(-(g+h)/tau)"
   ]
  }
 ],
 "metadata": {
  "kernelspec": {
   "display_name": "Python 3 (ipykernel)",
   "language": "python",
   "name": "python3"
  },
  "language_info": {
   "codemirror_mode": {
    "name": "ipython",
    "version": 3
   },
   "file_extension": ".py",
   "mimetype": "text/x-python",
   "name": "python",
   "nbconvert_exporter": "python",
   "pygments_lexer": "ipython3",
   "version": "3.9.4"
  }
 },
 "nbformat": 4,
 "nbformat_minor": 5
}
