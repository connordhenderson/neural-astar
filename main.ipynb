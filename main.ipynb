{
 "cells": [
  {
   "cell_type": "code",
   "execution_count": 1,
   "id": "0eb971d9",
   "metadata": {},
   "outputs": [],
   "source": [
    "%run a_star.ipynb import *\n",
    "%run maze_generation.ipynb import *"
   ]
  },
  {
   "cell_type": "markdown",
   "id": "6538cf04",
   "metadata": {},
   "source": [
    "# Preparing the data\n",
    "\n",
    "### Example preparation"
   ]
  },
  {
   "cell_type": "code",
   "execution_count": 21,
   "id": "1df0404f",
   "metadata": {},
   "outputs": [
    {
     "data": {
      "text/plain": [
       "<matplotlib.image.AxesImage at 0x244a96bde80>"
      ]
     },
     "metadata": {},
     "output_type": "display_data"
    },
    {
     "data": {
      "image/png": "[encoded data removed]",
      "text/plain": [
       "<Figure size 432x288 with 1 Axes>"
      ]
     },
     "metadata": {
      "needs_background": "light"
     },
     "output_type": "display_data"
    }
   ],
   "source": [
    "# Generating a maze and solution\n",
    "maze = generate_wide_maze(5,4)\n",
    "path = a_star(np.asarray(maze, dtype=int), start=[1,1], end=[len(maze)-2, len(maze)-2], diagonals=True)\n",
    "solution = maze.copy()*2\n",
    "for node in path:\n",
    "    solution[node[0]][node[1]] = 1\n",
    "display(plt.imshow(solution))\n",
    "del maze, path, solution"
   ]
  },
  {
   "cell_type": "code",
   "execution_count": 24,
   "id": "b16643f1",
   "metadata": {},
   "outputs": [
    {
     "name": "stdout",
     "output_type": "stream",
     "text": [
      "iter 0\n",
      "iter 50\n",
      "iter 100\n",
      "iter 150\n",
      "iter 200\n",
      "iter 250\n",
      "iter 300\n",
      "iter 350\n",
      "iter 400\n",
      "iter 450\n",
      "iter 500\n",
      "iter 550\n",
      "iter 600\n",
      "iter 650\n",
      "iter 700\n",
      "iter 750\n",
      "iter 800\n",
      "iter 850\n",
      "iter 900\n",
      "iter 950\n"
     ]
    }
   ],
   "source": [
    "# Generate mazes\n",
    "n_mazes = 1000\n",
    "mazes = []\n",
    "paths = []\n",
    "solutions = []\n",
    "\n",
    "for i in range(n_mazes):\n",
    "    # Generate maze\n",
    "    maze = generate_wide_maze(5,4)\n",
    "    mazes.append(maze)\n",
    "    \n",
    "    # Generate path\n",
    "    path = a_star(np.asarray(maze, dtype=int), start=[1,1], end=[len(maze)-2, len(maze)-2], diagonals=True)\n",
    "    paths.append(path)\n",
    "    \n",
    "    # Generate solution visual\n",
    "    solution = maze.copy()*2\n",
    "    for node in path:\n",
    "        solution[node[0]][node[1]] = 1\n",
    "    solutions.append(solution)\n",
    "    \n",
    "    if i % 50 == 0:\n",
    "        print(f\"iter {i}\")\n",
    "\n",
    "# Save the data\n",
    "np.save(\"mazes.dat\", mazes)\n",
    "np.save(\"solutions.dat\", mazes)\n",
    "np.save(\"paths.dat\", mazes)"
   ]
  },
  {
   "cell_type": "code",
   "execution_count": 25,
   "id": "14f7dde6",
   "metadata": {},
   "outputs": [],
   "source": []
  },
  {
   "cell_type": "code",
   "execution_count": null,
   "id": "c3c66c5c",
   "metadata": {},
   "outputs": [],
   "source": []
  }
 ],
 "metadata": {
  "kernelspec": {
   "display_name": "Python 3 (ipykernel)",
   "language": "python",
   "name": "python3"
  },
  "language_info": {
   "codemirror_mode": {
    "name": "ipython",
    "version": 3
   },
   "file_extension": ".py",
   "mimetype": "text/x-python",
   "name": "python",
   "nbconvert_exporter": "python",
   "pygments_lexer": "ipython3",
   "version": "3.9.4"
  }
 },
 "nbformat": 4,
 "nbformat_minor": 5
}
