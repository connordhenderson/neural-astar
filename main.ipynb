{
 "cells": [
  {
   "cell_type": "code",
   "execution_count": 2,
   "id": "0eb971d9",
   "metadata": {},
   "outputs": [],
   "source": [
    "%%capture\n",
    "%run maze_generation.ipynb import *"
   ]
  },
  {
   "cell_type": "markdown",
   "id": "6538cf04",
   "metadata": {},
   "source": [
    "# Preparing the data\n",
    "\n",
    "### Example preparation"
   ]
  },
  {
   "cell_type": "code",
   "execution_count": 3,
   "id": "1df0404f",
   "metadata": {},
   "outputs": [
    {
     "data": {
      "text/plain": [
       "<matplotlib.image.AxesImage at 0x24ea3fc2250>"
      ]
     },
     "metadata": {},
     "output_type": "display_data"
    },
    {
     "data": {
      "image/png": "[encoded data removed]",
      "text/plain": [
       "<Figure size 432x288 with 1 Axes>"
      ]
     },
     "metadata": {
      "needs_background": "light"
     },
     "output_type": "display_data"
    }
   ],
   "source": [
    "N_CELLS = 7\n",
    "CELL_WIDTH = 4\n",
    "\n",
    "# Generating a maze and solution\n",
    "maze = generate_wide_maze(N_CELLS,CELL_WIDTH)[1:-1, 1:-1]\n",
    "path = a_star(np.asarray(maze, dtype=int), start=[1,1], end=[len(maze)-2, len(maze)-2], diagonals=True)\n",
    "solution = maze.copy()*2\n",
    "for node in path:\n",
    "    solution[node[0]][node[1]] = 1\n",
    "display(plt.imshow(solution))\n",
    "del maze, path, solution"
   ]
  },
  {
   "cell_type": "code",
   "execution_count": 4,
   "id": "b16643f1",
   "metadata": {},
   "outputs": [
    {
     "name": "stdout",
     "output_type": "stream",
     "text": [
      "iter    0/\n",
      "iter   50/\n",
      "iter  100/\n",
      "iter  150/\n",
      "iter  200/\n",
      "iter  250/\n",
      "iter  300/\n",
      "iter  350/\n",
      "iter  400/\n",
      "iter  450/\n",
      "iter  500/\n",
      "iter  550/\n",
      "iter  600/\n",
      "iter  650/\n",
      "iter  700/\n",
      "iter  750/\n",
      "iter  800/\n",
      "iter  850/\n",
      "iter  900/\n",
      "iter  950/\n"
     ]
    },
    {
     "name": "stderr",
     "output_type": "stream",
     "text": [
      "C:\\Users\\db2admin\\AppData\\Local\\Programs\\Python\\Python39\\lib\\site-packages\\numpy\\lib\\npyio.py:518: VisibleDeprecationWarning: Creating an ndarray from ragged nested sequences (which is a list-or-tuple of lists-or-tuples-or ndarrays with different lengths or shapes) is deprecated. If you meant to do this, you must specify 'dtype=object' when creating the ndarray.\n",
      "  arr = np.asanyarray(arr)\n"
     ]
    }
   ],
   "source": [
    "# Generate mazes\n",
    "n_mazes = 1000\n",
    "mazes = []\n",
    "paths = []\n",
    "solutions = []\n",
    "\n",
    "for i in range(n_mazes):\n",
    "    # Generate maze\n",
    "    maze = generate_wide_maze(N_CELLS,CELL_WIDTH)[1:-1, 1:-1]\n",
    "    mazes.append(maze)\n",
    "    \n",
    "    # Generate path\n",
    "    path = a_star(np.asarray(maze, dtype=int), start=[1,1], end=[len(maze)-2, len(maze)-2], diagonals=True)\n",
    "    paths.append(path)\n",
    "    \n",
    "    # Generate solution visual\n",
    "    solution = np.zeros(maze.shape)\n",
    "    for node in path:\n",
    "        solution[node[0]][node[1]] = 1\n",
    "    solutions.append(solution)\n",
    "    \n",
    "    if i % 50 == 0:\n",
    "        print(f\"iter {i:4d}/\")\n",
    "\n",
    "# Save the data\n",
    "np.save(\"mazes\", mazes)\n",
    "np.save(\"solutions\", solutions)\n",
    "np.save(\"paths\", paths)"
   ]
  },
  {
   "cell_type": "code",
   "execution_count": null,
   "id": "b058a4f8",
   "metadata": {},
   "outputs": [],
   "source": []
  }
 ],
 "metadata": {
  "kernelspec": {
   "display_name": "Python 3 (ipykernel)",
   "language": "python",
   "name": "python3"
  },
  "language_info": {
   "codemirror_mode": {
    "name": "ipython",
    "version": 3
   },
   "file_extension": ".py",
   "mimetype": "text/x-python",
   "name": "python",
   "nbconvert_exporter": "python",
   "pygments_lexer": "ipython3",
   "version": "3.9.10"
  }
 },
 "nbformat": 4,
 "nbformat_minor": 5
}
