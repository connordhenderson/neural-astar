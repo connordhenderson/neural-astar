{
 "cells": [
  {
   "cell_type": "code",
   "execution_count": 3,
   "id": "0eb971d9",
   "metadata": {},
   "outputs": [],
   "source": [
    "%%capture\n",
    "%run maze_generation.ipynb import *\n",
    "%run a_star.ipynb import *"
   ]
  },
  {
   "cell_type": "markdown",
   "id": "6538cf04",
   "metadata": {},
   "source": [
    "# Preparing the data\n",
    "\n",
    "### Example preparation"
   ]
  },
  {
   "cell_type": "code",
   "execution_count": 8,
   "id": "1df0404f",
   "metadata": {},
   "outputs": [
    {
     "data": {
      "text/plain": [
       "<matplotlib.image.AxesImage at 0x232154a0b80>"
      ]
     },
     "metadata": {},
     "output_type": "display_data"
    },
    {
     "data": {
      "image/png": "[encoded data removed]",
      "text/plain": [
       "<Figure size 432x288 with 1 Axes>"
      ]
     },
     "metadata": {
      "needs_background": "light"
     },
     "output_type": "display_data"
    }
   ],
   "source": [
    "N_CELLS = 7\n",
    "CELL_WIDTH = 4\n",
    "\n",
    "# Generating a maze and solution\n",
    "maze = generate_wide_maze(N_CELLS,CELL_WIDTH)[1:-1, 1:-1]\n",
    "path = a_star(np.asarray(maze, dtype=int), start=[1,1], end=[len(maze)-2, len(maze)-2], diagonals=True)\n",
    "solution = maze.copy()*2\n",
    "for node in path:\n",
    "    solution[node[0]][node[1]] = 1\n",
    "display(plt.imshow(solution))\n",
    "del maze, path, solution"
   ]
  },
  {
   "cell_type": "code",
   "execution_count": 7,
   "id": "b16643f1",
   "metadata": {},
   "outputs": [
    {
     "name": "stdout",
     "output_type": "stream",
     "text": [
      "iter    0/\n"
     ]
    },
    {
     "ename": "KeyboardInterrupt",
     "evalue": "",
     "output_type": "error",
     "traceback": [
      "\u001b[1;31m---------------------------------------------------------------------------\u001b[0m",
      "\u001b[1;31mKeyboardInterrupt\u001b[0m                         Traceback (most recent call last)",
      "Input \u001b[1;32mIn [7]\u001b[0m, in \u001b[0;36m<module>\u001b[1;34m\u001b[0m\n\u001b[0;32m     10\u001b[0m mazes\u001b[38;5;241m.\u001b[39mappend(maze)\n\u001b[0;32m     12\u001b[0m \u001b[38;5;66;03m# Generate path\u001b[39;00m\n\u001b[1;32m---> 13\u001b[0m path \u001b[38;5;241m=\u001b[39m \u001b[43ma_star\u001b[49m\u001b[43m(\u001b[49m\u001b[43mnp\u001b[49m\u001b[38;5;241;43m.\u001b[39;49m\u001b[43masarray\u001b[49m\u001b[43m(\u001b[49m\u001b[43mmaze\u001b[49m\u001b[43m,\u001b[49m\u001b[43m \u001b[49m\u001b[43mdtype\u001b[49m\u001b[38;5;241;43m=\u001b[39;49m\u001b[38;5;28;43mint\u001b[39;49m\u001b[43m)\u001b[49m\u001b[43m,\u001b[49m\u001b[43m \u001b[49m\u001b[43mstart\u001b[49m\u001b[38;5;241;43m=\u001b[39;49m\u001b[43m[\u001b[49m\u001b[38;5;241;43m1\u001b[39;49m\u001b[43m,\u001b[49m\u001b[38;5;241;43m1\u001b[39;49m\u001b[43m]\u001b[49m\u001b[43m,\u001b[49m\u001b[43m \u001b[49m\u001b[43mend\u001b[49m\u001b[38;5;241;43m=\u001b[39;49m\u001b[43m[\u001b[49m\u001b[38;5;28;43mlen\u001b[39;49m\u001b[43m(\u001b[49m\u001b[43mmaze\u001b[49m\u001b[43m)\u001b[49m\u001b[38;5;241;43m-\u001b[39;49m\u001b[38;5;241;43m2\u001b[39;49m\u001b[43m,\u001b[49m\u001b[43m \u001b[49m\u001b[38;5;28;43mlen\u001b[39;49m\u001b[43m(\u001b[49m\u001b[43mmaze\u001b[49m\u001b[43m)\u001b[49m\u001b[38;5;241;43m-\u001b[39;49m\u001b[38;5;241;43m2\u001b[39;49m\u001b[43m]\u001b[49m\u001b[43m,\u001b[49m\u001b[43m \u001b[49m\u001b[43mdiagonals\u001b[49m\u001b[38;5;241;43m=\u001b[39;49m\u001b[38;5;28;43;01mTrue\u001b[39;49;00m\u001b[43m)\u001b[49m\n\u001b[0;32m     14\u001b[0m paths\u001b[38;5;241m.\u001b[39mappend(path)\n\u001b[0;32m     16\u001b[0m \u001b[38;5;66;03m# Generate solution visual\u001b[39;00m\n",
      "File \u001b[1;32m~\\AppData\\Local\\Temp\\ipykernel_9424\\3650018198.py:61\u001b[0m, in \u001b[0;36ma_star\u001b[1;34m(cells, start, end, h, diagonals)\u001b[0m\n\u001b[0;32m     59\u001b[0m source[\u001b[38;5;28mstr\u001b[39m(neighbour\u001b[38;5;241m.\u001b[39mtolist())] \u001b[38;5;241m=\u001b[39m current\n\u001b[0;32m     60\u001b[0m gscore[\u001b[38;5;28mstr\u001b[39m(neighbour\u001b[38;5;241m.\u001b[39mtolist())] \u001b[38;5;241m=\u001b[39m tentative_gscore\n\u001b[1;32m---> 61\u001b[0m fscore[\u001b[38;5;28mstr\u001b[39m(neighbour\u001b[38;5;241m.\u001b[39mtolist())] \u001b[38;5;241m=\u001b[39m tentative_gscore \u001b[38;5;241m+\u001b[39m \u001b[43mh\u001b[49m\u001b[43m(\u001b[49m\u001b[43mneighbour\u001b[49m\u001b[43m,\u001b[49m\u001b[43m \u001b[49m\u001b[43mend\u001b[49m\u001b[43m)\u001b[49m\n\u001b[0;32m     63\u001b[0m \u001b[38;5;28;01mif\u001b[39;00m \u001b[38;5;28mstr\u001b[39m(neighbour) \u001b[38;5;129;01mnot\u001b[39;00m \u001b[38;5;129;01min\u001b[39;00m openset:\n\u001b[0;32m     64\u001b[0m     openset\u001b[38;5;241m.\u001b[39madd(\u001b[38;5;28mstr\u001b[39m(neighbour\u001b[38;5;241m.\u001b[39mtolist()))\n",
      "File \u001b[1;32m~\\AppData\\Local\\Temp\\ipykernel_9424\\3650018198.py:1\u001b[0m, in \u001b[0;36m<lambda>\u001b[1;34m(x, y)\u001b[0m\n\u001b[1;32m----> 1\u001b[0m normal_distance \u001b[38;5;241m=\u001b[39m \u001b[38;5;28;01mlambda\u001b[39;00m x,y : \u001b[43mnp\u001b[49m\u001b[38;5;241;43m.\u001b[39;49m\u001b[43mlinalg\u001b[49m\u001b[38;5;241;43m.\u001b[39;49m\u001b[43mnorm\u001b[49m\u001b[43m(\u001b[49m\u001b[43mnp\u001b[49m\u001b[38;5;241;43m.\u001b[39;49m\u001b[43marray\u001b[49m\u001b[43m(\u001b[49m\u001b[43mx\u001b[49m\u001b[43m)\u001b[49m\u001b[43m \u001b[49m\u001b[38;5;241;43m-\u001b[39;49m\u001b[43m \u001b[49m\u001b[43mnp\u001b[49m\u001b[38;5;241;43m.\u001b[39;49m\u001b[43marray\u001b[49m\u001b[43m(\u001b[49m\u001b[43my\u001b[49m\u001b[43m)\u001b[49m\u001b[43m)\u001b[49m\n\u001b[0;32m      4\u001b[0m \u001b[38;5;28;01mdef\u001b[39;00m \u001b[38;5;21mreconstruct_path\u001b[39m(source, current):\n\u001b[0;32m      5\u001b[0m     total_path \u001b[38;5;241m=\u001b[39m [current]\n",
      "File \u001b[1;32m<__array_function__ internals>:180\u001b[0m, in \u001b[0;36mnorm\u001b[1;34m(*args, **kwargs)\u001b[0m\n",
      "File \u001b[1;32m~\\AppData\\Local\\Programs\\Python\\Python39\\lib\\site-packages\\numpy\\linalg\\linalg.py:2516\u001b[0m, in \u001b[0;36mnorm\u001b[1;34m(x, ord, axis, keepdims)\u001b[0m\n\u001b[0;32m   2514\u001b[0m     sqnorm \u001b[38;5;241m=\u001b[39m dot(x\u001b[38;5;241m.\u001b[39mreal, x\u001b[38;5;241m.\u001b[39mreal) \u001b[38;5;241m+\u001b[39m dot(x\u001b[38;5;241m.\u001b[39mimag, x\u001b[38;5;241m.\u001b[39mimag)\n\u001b[0;32m   2515\u001b[0m \u001b[38;5;28;01melse\u001b[39;00m:\n\u001b[1;32m-> 2516\u001b[0m     sqnorm \u001b[38;5;241m=\u001b[39m \u001b[43mdot\u001b[49m\u001b[43m(\u001b[49m\u001b[43mx\u001b[49m\u001b[43m,\u001b[49m\u001b[43m \u001b[49m\u001b[43mx\u001b[49m\u001b[43m)\u001b[49m\n\u001b[0;32m   2517\u001b[0m ret \u001b[38;5;241m=\u001b[39m sqrt(sqnorm)\n\u001b[0;32m   2518\u001b[0m \u001b[38;5;28;01mif\u001b[39;00m keepdims:\n",
      "File \u001b[1;32m<__array_function__ internals>:180\u001b[0m, in \u001b[0;36mdot\u001b[1;34m(*args, **kwargs)\u001b[0m\n",
      "\u001b[1;31mKeyboardInterrupt\u001b[0m: "
     ]
    }
   ],
   "source": [
    "# Generate mazes\n",
    "n_mazes = 1000\n",
    "mazes = []\n",
    "paths = []\n",
    "solutions = []\n",
    "\n",
    "for i in range(n_mazes):\n",
    "    # Generate maze\n",
    "    maze = generate_wide_maze(N_CELLS,CELL_WIDTH)[1:-1, 1:-1]\n",
    "    mazes.append(maze)\n",
    "    \n",
    "    # Generate path\n",
    "    path = a_star(np.asarray(maze, dtype=int), start=[1,1], end=[len(maze)-2, len(maze)-2], diagonals=True)\n",
    "    paths.append(path)\n",
    "    \n",
    "    # Generate solution visual\n",
    "    solution = np.zeros(maze.shape)\n",
    "    for node in path:\n",
    "        solution[node[0]][node[1]] = 1\n",
    "    solutions.append(solution)\n",
    "    \n",
    "    if i % 50 == 0:\n",
    "        print(f\"iter {i:4d}/\")\n",
    "\n",
    "# Save the data\n",
    "np.save(\"mazes\", mazes)\n",
    "np.save(\"solutions\", solutions)\n",
    "np.save(\"paths\", paths)"
   ]
  },
  {
   "cell_type": "code",
   "execution_count": null,
   "id": "b058a4f8",
   "metadata": {},
   "outputs": [],
   "source": []
  }
 ],
 "metadata": {
  "kernelspec": {
   "display_name": "Python 3 (ipykernel)",
   "language": "python",
   "name": "python3"
  },
  "language_info": {
   "codemirror_mode": {
    "name": "ipython",
    "version": 3
   },
   "file_extension": ".py",
   "mimetype": "text/x-python",
   "name": "python",
   "nbconvert_exporter": "python",
   "pygments_lexer": "ipython3",
   "version": "3.9.10"
  }
 },
 "nbformat": 4,
 "nbformat_minor": 5
}
